{
 "cells": [
  {
   "cell_type": "code",
   "execution_count": 1,
   "metadata": {},
   "outputs": [],
   "source": [
    "import requests\n",
    "import json\n",
    "\n",
    "from config import token"
   ]
  },
  {
   "cell_type": "code",
   "execution_count": 46,
   "metadata": {},
   "outputs": [],
   "source": [
    "keyword1 = '(America OR USA OR United States of America)'\n",
    "keyword2 =  ' -is:retweet -is:reply lang:en'\n",
    "max_results = 10\n",
    "\n",
    "search_url = \"https://api.twitter.com/2/tweets/search/recent\"\n",
    "\n",
    "# US used as an example query as it is a required field\n",
    "query_params = {'query': keyword1+keyword2,\n",
    "                'max_results': max_results,\n",
    "               }"
   ]
  },
  {
   "cell_type": "code",
   "execution_count": 3,
   "metadata": {},
   "outputs": [],
   "source": [
    "def bearer_oauth(r):\n",
    "    r.headers[\"Authorization\"] = f\"Bearer {token}\"\n",
    "    return r"
   ]
  },
  {
   "cell_type": "code",
   "execution_count": 4,
   "metadata": {},
   "outputs": [],
   "source": [
    "def connect_to_endpoint(url, params):\n",
    "    response = requests.get(url, auth=bearer_oauth, params=params)\n",
    "    print(response.status_code)\n",
    "    if response.status_code != 200:\n",
    "        raise Exception(response.status_code, response.text)\n",
    "    return response.json()"
   ]
  },
  {
   "cell_type": "code",
   "execution_count": 5,
   "metadata": {},
   "outputs": [],
   "source": [
    "def api_call():\n",
    "    tweets = []\n",
    "    json_response = connect_to_endpoint(search_url, query_params)\n",
    "    for response in json_response['data']:\n",
    "        tweets.append( {'tweet': response['text'], 'sentiment score': ''}) \n",
    "    return tweets"
   ]
  },
  {
   "cell_type": "code",
   "execution_count": 47,
   "metadata": {},
   "outputs": [
    {
     "name": "stdout",
     "output_type": "stream",
     "text": [
      "200\n"
     ]
    },
    {
     "data": {
      "text/plain": [
       "[{'tweet': 'Well goodnight guys. I have to go now. Just remember tonight as you lay in bed. You’re worrying about economic security and work and such. Just remember this and you will be okay. It’s a mantra. America is back! America is back baby!🇺🇸 https://t.co/9kjO2qotU5',\n",
       "  'sentiment score': ''},\n",
       " {'tweet': 'If they do not amend this bill I will be leaving the USA and running nodes elsewhere. #crypto https://t.co/etI4PRx88X',\n",
       "  'sentiment score': ''},\n",
       " {'tweet': '#vacation - Best things to do in Richmond - United States of America https://t.co/Ioj60LgYTo',\n",
       "  'sentiment score': ''},\n",
       " {'tweet': '$BTC.X $ETH.X $XRP.X America Is Behind on Cryptocurrency Adoption: Report https://t.co/Qwz2lDyRne https://t.co/Cv3EpDx1E3',\n",
       "  'sentiment score': ''},\n",
       " {'tweet': '#vacation - Amazing spots to visit in Richmond, United States of America https://t.co/vRr93O1yJ8',\n",
       "  'sentiment score': ''},\n",
       " {'tweet': 'weve been waiting 2 hours in the fucking ER. FUCK AMERICA \\nmy mom has symptoms of appendicitis and weve been sitting here for 2 hours (not vounting the 2 other hours at the clinic before we got told to come to the ER) \\nthe American healthcare system leaves people to die',\n",
       "  'sentiment score': ''},\n",
       " {'tweet': '#tour - Awesome attractions to enjoy in Richmond (United States of America) https://t.co/mvif4antZm',\n",
       "  'sentiment score': ''},\n",
       " {'tweet': 'People in #CostaRica live longer than in the #USA Also, Costa Rica has no army. Coincidence? https://t.co/zGppp3UV8v',\n",
       "  'sentiment score': ''},\n",
       " {'tweet': 'Black America spread the word-- Dan Patrick Blames Black-People For-Surge https://t.co/CYCixVYcB2 via @YouTube',\n",
       "  'sentiment score': ''},\n",
       " {'tweet': 'Some digital divides persist between rural, urban and suburban America https://t.co/4lxtdV68dP https://t.co/AMHFYJiUvZ',\n",
       "  'sentiment score': ''}]"
      ]
     },
     "execution_count": 47,
     "metadata": {},
     "output_type": "execute_result"
    }
   ],
   "source": [
    "tweet_dict = api_call()\n",
    "tweet_dict"
   ]
  },
  {
   "cell_type": "code",
   "execution_count": null,
   "metadata": {},
   "outputs": [],
   "source": []
  }
 ],
 "metadata": {
  "kernelspec": {
   "display_name": "Python 3",
   "language": "python",
   "name": "python3"
  },
  "language_info": {
   "codemirror_mode": {
    "name": "ipython",
    "version": 3
   },
   "file_extension": ".py",
   "mimetype": "text/x-python",
   "name": "python",
   "nbconvert_exporter": "python",
   "pygments_lexer": "ipython3",
   "version": "3.8.5"
  }
 },
 "nbformat": 4,
 "nbformat_minor": 4
}
