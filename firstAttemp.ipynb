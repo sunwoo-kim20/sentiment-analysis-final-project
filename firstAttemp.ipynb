{
 "cells": [
  {
   "cell_type": "code",
   "execution_count": 1,
   "metadata": {},
   "outputs": [],
   "source": [
    "import pandas as pd\n",
    "import gzip"
   ]
  },
  {
   "cell_type": "code",
   "execution_count": 2,
   "metadata": {},
   "outputs": [],
   "source": [
    "# List of datasets to use\n",
    "data = ['Resources/data/reviews_Digital_Music_5.json.gz', 'Resources/data/reviews_Digital_Music_5.json.gz']\n",
    "\n",
    "# functions to read Amazon data into a pandas data frame\n",
    "def parse(path):\n",
    "    g = gzip.open(path, 'rb')\n",
    "    for l in g:\n",
    "        yield eval(l)\n",
    "\n",
    "def getDF(path):\n",
    "    i = 0\n",
    "    df = {}\n",
    "    for d in parse(path):\n",
    "        df[i] = d\n",
    "        i += 1\n",
    "    return pd.DataFrame.from_dict(df, orient='index')\n",
    "\n",
    "# function to concatenate multiple Amazon datasets\n",
    "def concatDF(data):\n",
    "    df = pd.DataFrame()\n",
    "    for dataset in data:\n",
    "        dftemp = getDF(dataset)\n",
    "        df = pd.concat([df, dftemp], axis=0)\n",
    "    # drop unneeded columns\n",
    "    df.drop(columns = ['reviewerID', 'asin', 'reviewerName', 'helpful', \\\n",
    "                       'summary', 'unixReviewTime', 'reviewTime'], inplace= True)\n",
    "    return df"
   ]
  },
  {
   "cell_type": "code",
   "execution_count": 33,
   "metadata": {},
   "outputs": [],
   "source": [
    "df = concatDF(data)"
   ]
  },
  {
   "cell_type": "code",
   "execution_count": 34,
   "metadata": {},
   "outputs": [
    {
     "data": {
      "text/html": [
       "<div>\n",
       "<style scoped>\n",
       "    .dataframe tbody tr th:only-of-type {\n",
       "        vertical-align: middle;\n",
       "    }\n",
       "\n",
       "    .dataframe tbody tr th {\n",
       "        vertical-align: top;\n",
       "    }\n",
       "\n",
       "    .dataframe thead th {\n",
       "        text-align: right;\n",
       "    }\n",
       "</style>\n",
       "<table border=\"1\" class=\"dataframe\">\n",
       "  <thead>\n",
       "    <tr style=\"text-align: right;\">\n",
       "      <th></th>\n",
       "      <th>reviewText</th>\n",
       "      <th>overall</th>\n",
       "    </tr>\n",
       "  </thead>\n",
       "  <tbody>\n",
       "    <tr>\n",
       "      <th>0</th>\n",
       "      <td>It's hard to believe \"Memory of Trees\" came ou...</td>\n",
       "      <td>5.0</td>\n",
       "    </tr>\n",
       "    <tr>\n",
       "      <th>1</th>\n",
       "      <td>A clasically-styled and introverted album, Mem...</td>\n",
       "      <td>5.0</td>\n",
       "    </tr>\n",
       "    <tr>\n",
       "      <th>2</th>\n",
       "      <td>I never thought Enya would reach the sublime h...</td>\n",
       "      <td>5.0</td>\n",
       "    </tr>\n",
       "    <tr>\n",
       "      <th>3</th>\n",
       "      <td>This is the third review of an irish album I w...</td>\n",
       "      <td>5.0</td>\n",
       "    </tr>\n",
       "    <tr>\n",
       "      <th>4</th>\n",
       "      <td>Enya, despite being a successful recording art...</td>\n",
       "      <td>4.0</td>\n",
       "    </tr>\n",
       "  </tbody>\n",
       "</table>\n",
       "</div>"
      ],
      "text/plain": [
       "                                          reviewText  overall\n",
       "0  It's hard to believe \"Memory of Trees\" came ou...      5.0\n",
       "1  A clasically-styled and introverted album, Mem...      5.0\n",
       "2  I never thought Enya would reach the sublime h...      5.0\n",
       "3  This is the third review of an irish album I w...      5.0\n",
       "4  Enya, despite being a successful recording art...      4.0"
      ]
     },
     "execution_count": 34,
     "metadata": {},
     "output_type": "execute_result"
    }
   ],
   "source": [
    "df.head()"
   ]
  },
  {
   "cell_type": "code",
   "execution_count": 35,
   "metadata": {},
   "outputs": [],
   "source": [
    "df['reviewText'] = df['reviewText'].str.lower()\n",
    "df = df.iloc[:1000]"
   ]
  },
  {
   "cell_type": "code",
   "execution_count": 36,
   "metadata": {},
   "outputs": [
    {
     "data": {
      "text/html": [
       "<div>\n",
       "<style scoped>\n",
       "    .dataframe tbody tr th:only-of-type {\n",
       "        vertical-align: middle;\n",
       "    }\n",
       "\n",
       "    .dataframe tbody tr th {\n",
       "        vertical-align: top;\n",
       "    }\n",
       "\n",
       "    .dataframe thead th {\n",
       "        text-align: right;\n",
       "    }\n",
       "</style>\n",
       "<table border=\"1\" class=\"dataframe\">\n",
       "  <thead>\n",
       "    <tr style=\"text-align: right;\">\n",
       "      <th></th>\n",
       "      <th>reviewText</th>\n",
       "      <th>overall</th>\n",
       "    </tr>\n",
       "  </thead>\n",
       "  <tbody>\n",
       "    <tr>\n",
       "      <th>0</th>\n",
       "      <td>it's hard to believe \"memory of trees\" came ou...</td>\n",
       "      <td>5.0</td>\n",
       "    </tr>\n",
       "    <tr>\n",
       "      <th>1</th>\n",
       "      <td>a clasically-styled and introverted album, mem...</td>\n",
       "      <td>5.0</td>\n",
       "    </tr>\n",
       "    <tr>\n",
       "      <th>2</th>\n",
       "      <td>i never thought enya would reach the sublime h...</td>\n",
       "      <td>5.0</td>\n",
       "    </tr>\n",
       "    <tr>\n",
       "      <th>3</th>\n",
       "      <td>this is the third review of an irish album i w...</td>\n",
       "      <td>5.0</td>\n",
       "    </tr>\n",
       "    <tr>\n",
       "      <th>4</th>\n",
       "      <td>enya, despite being a successful recording art...</td>\n",
       "      <td>4.0</td>\n",
       "    </tr>\n",
       "  </tbody>\n",
       "</table>\n",
       "</div>"
      ],
      "text/plain": [
       "                                          reviewText  overall\n",
       "0  it's hard to believe \"memory of trees\" came ou...      5.0\n",
       "1  a clasically-styled and introverted album, mem...      5.0\n",
       "2  i never thought enya would reach the sublime h...      5.0\n",
       "3  this is the third review of an irish album i w...      5.0\n",
       "4  enya, despite being a successful recording art...      4.0"
      ]
     },
     "execution_count": 36,
     "metadata": {},
     "output_type": "execute_result"
    }
   ],
   "source": [
    "df.head()"
   ]
  },
  {
   "cell_type": "code",
   "execution_count": 37,
   "metadata": {},
   "outputs": [],
   "source": [
    "from nltk.corpus import stopwords\n",
    "stops = set(stopwords.words(\"english\")) \n",
    "\n",
    "def remove_stops(row):\n",
    "    list_words = row.split(' ')\n",
    "    meaningful_words = [word for word in list_words if word.isalpha() and (not word in stops)]\n",
    "    return_string = \"\"\n",
    "    for word in meaningful_words:\n",
    "        return_string += word + \" \"  \n",
    "    return return_string"
   ]
  },
  {
   "cell_type": "code",
   "execution_count": 38,
   "metadata": {},
   "outputs": [],
   "source": [
    "df['train_me'] = df['reviewText'].apply(remove_stops)"
   ]
  },
  {
   "cell_type": "code",
   "execution_count": 39,
   "metadata": {},
   "outputs": [
    {
     "data": {
      "text/html": [
       "<div>\n",
       "<style scoped>\n",
       "    .dataframe tbody tr th:only-of-type {\n",
       "        vertical-align: middle;\n",
       "    }\n",
       "\n",
       "    .dataframe tbody tr th {\n",
       "        vertical-align: top;\n",
       "    }\n",
       "\n",
       "    .dataframe thead th {\n",
       "        text-align: right;\n",
       "    }\n",
       "</style>\n",
       "<table border=\"1\" class=\"dataframe\">\n",
       "  <thead>\n",
       "    <tr style=\"text-align: right;\">\n",
       "      <th></th>\n",
       "      <th>reviewText</th>\n",
       "      <th>overall</th>\n",
       "      <th>train_me</th>\n",
       "    </tr>\n",
       "  </thead>\n",
       "  <tbody>\n",
       "    <tr>\n",
       "      <th>0</th>\n",
       "      <td>it's hard to believe \"memory of trees\" came ou...</td>\n",
       "      <td>5.0</td>\n",
       "      <td>hard believe came years held well passage last...</td>\n",
       "    </tr>\n",
       "    <tr>\n",
       "      <th>1</th>\n",
       "      <td>a clasically-styled and introverted album, mem...</td>\n",
       "      <td>5.0</td>\n",
       "      <td>introverted memory trees masterpiece many song...</td>\n",
       "    </tr>\n",
       "    <tr>\n",
       "      <th>2</th>\n",
       "      <td>i never thought enya would reach the sublime h...</td>\n",
       "      <td>5.0</td>\n",
       "      <td>never thought enya would reach sublime heights...</td>\n",
       "    </tr>\n",
       "    <tr>\n",
       "      <th>3</th>\n",
       "      <td>this is the third review of an irish album i w...</td>\n",
       "      <td>5.0</td>\n",
       "      <td>third review irish album write today others su...</td>\n",
       "    </tr>\n",
       "    <tr>\n",
       "      <th>4</th>\n",
       "      <td>enya, despite being a successful recording art...</td>\n",
       "      <td>4.0</td>\n",
       "      <td>despite successful recording broad appeal one ...</td>\n",
       "    </tr>\n",
       "  </tbody>\n",
       "</table>\n",
       "</div>"
      ],
      "text/plain": [
       "                                          reviewText  overall  \\\n",
       "0  it's hard to believe \"memory of trees\" came ou...      5.0   \n",
       "1  a clasically-styled and introverted album, mem...      5.0   \n",
       "2  i never thought enya would reach the sublime h...      5.0   \n",
       "3  this is the third review of an irish album i w...      5.0   \n",
       "4  enya, despite being a successful recording art...      4.0   \n",
       "\n",
       "                                            train_me  \n",
       "0  hard believe came years held well passage last...  \n",
       "1  introverted memory trees masterpiece many song...  \n",
       "2  never thought enya would reach sublime heights...  \n",
       "3  third review irish album write today others su...  \n",
       "4  despite successful recording broad appeal one ...  "
      ]
     },
     "execution_count": 39,
     "metadata": {},
     "output_type": "execute_result"
    }
   ],
   "source": [
    "df.head()"
   ]
  },
  {
   "cell_type": "code",
   "execution_count": 40,
   "metadata": {},
   "outputs": [],
   "source": [
    "x = df['train_me']\n",
    "y = df['overall'].astype(int)\n",
    "\n",
    "from sklearn.model_selection import train_test_split\n",
    "X_train, X_test, y_train, y_test = train_test_split(x, y, test_size=0.2)"
   ]
  },
  {
   "cell_type": "code",
   "execution_count": 41,
   "metadata": {},
   "outputs": [],
   "source": [
    "from sklearn.feature_extraction.text import TfidfVectorizer\n",
    "vectorizer = TfidfVectorizer()"
   ]
  },
  {
   "cell_type": "code",
   "execution_count": 42,
   "metadata": {},
   "outputs": [],
   "source": [
    "vectorized_train = vectorizer.fit_transform(X_train).toarray()\n",
    "vectorized_test = vectorizer.transform(X_test).toarray()"
   ]
  },
  {
   "cell_type": "code",
   "execution_count": 43,
   "metadata": {},
   "outputs": [],
   "source": [
    "from sklearn.preprocessing import Normalizer\n",
    "norm = Normalizer().fit(vectorized_train)\n",
    "\n",
    "norm_vectorized_train = norm.transform(vectorized_train)\n",
    "norm_vectorized_test = norm.transform(vectorized_test)"
   ]
  },
  {
   "cell_type": "code",
   "execution_count": 44,
   "metadata": {},
   "outputs": [],
   "source": [
    "from sklearn.preprocessing import LabelEncoder\n",
    "from tensorflow.keras.utils import to_categorical\n",
    "label_encoder = LabelEncoder()\n",
    "label_encoder.fit(y_train)\n",
    "\n",
    "encoded_y_train = label_encoder.transform(y_train)\n",
    "encoded_y_test = label_encoder.transform(y_test)\n",
    "\n",
    "y_train_categorical = to_categorical(encoded_y_train)\n",
    "y_test_categorical = to_categorical(encoded_y_test)"
   ]
  },
  {
   "cell_type": "code",
   "execution_count": 45,
   "metadata": {},
   "outputs": [
    {
     "name": "stdout",
     "output_type": "stream",
     "text": [
      "Model: \"sequential\"\n",
      "_________________________________________________________________\n",
      "Layer (type)                 Output Shape              Param #   \n",
      "=================================================================\n",
      "dense (Dense)                (None, 64)                552704    \n",
      "_________________________________________________________________\n",
      "dense_1 (Dense)              (None, 5)                 325       \n",
      "=================================================================\n",
      "Total params: 553,029\n",
      "Trainable params: 553,029\n",
      "Non-trainable params: 0\n",
      "_________________________________________________________________\n"
     ]
    }
   ],
   "source": [
    "from tensorflow.keras.models import Sequential\n",
    "from tensorflow.keras.layers import Dense\n",
    "\n",
    "model = Sequential()\n",
    "\n",
    "model.add(Dense(units=64, activation='relu', input_dim=vectorized_train.shape[1]))\n",
    "model.add(Dense(units=5, activation='softmax'))\n",
    "model.compile(loss='categorical_crossentropy', optimizer='rmsprop', metrics=['accuracy'])\n",
    "model.summary()"
   ]
  },
  {
   "cell_type": "code",
   "execution_count": 53,
   "metadata": {},
   "outputs": [
    {
     "name": "stdout",
     "output_type": "stream",
     "text": [
      "Epoch 1/100\n",
      "25/25 [==============================] - 0s 10ms/step - loss: 0.2742 - accuracy: 0.9325 - val_loss: 0.8593 - val_accuracy: 0.7550\n",
      "Epoch 2/100\n",
      "25/25 [==============================] - 0s 9ms/step - loss: 0.2273 - accuracy: 0.9488 - val_loss: 0.8751 - val_accuracy: 0.7600\n",
      "Epoch 3/100\n",
      "25/25 [==============================] - 0s 9ms/step - loss: 0.1864 - accuracy: 0.9588 - val_loss: 0.8897 - val_accuracy: 0.7400\n",
      "Epoch 4/100\n",
      "25/25 [==============================] - 0s 8ms/step - loss: 0.1517 - accuracy: 0.9688 - val_loss: 0.9114 - val_accuracy: 0.7400\n",
      "Epoch 5/100\n",
      "25/25 [==============================] - 0s 9ms/step - loss: 0.1225 - accuracy: 0.9762 - val_loss: 0.9359 - val_accuracy: 0.7450\n",
      "Epoch 6/100\n",
      "25/25 [==============================] - 0s 9ms/step - loss: 0.0986 - accuracy: 0.9850 - val_loss: 0.9709 - val_accuracy: 0.7500\n",
      "Epoch 7/100\n",
      "25/25 [==============================] - 0s 9ms/step - loss: 0.0792 - accuracy: 0.9875 - val_loss: 0.9976 - val_accuracy: 0.7400\n",
      "Epoch 8/100\n",
      "25/25 [==============================] - 0s 9ms/step - loss: 0.0633 - accuracy: 0.9950 - val_loss: 1.0446 - val_accuracy: 0.7450\n",
      "Epoch 9/100\n",
      "25/25 [==============================] - 0s 8ms/step - loss: 0.0505 - accuracy: 0.9962 - val_loss: 1.0781 - val_accuracy: 0.7450\n",
      "Epoch 10/100\n",
      "25/25 [==============================] - 0s 9ms/step - loss: 0.0401 - accuracy: 0.9987 - val_loss: 1.1277 - val_accuracy: 0.7450\n",
      "Epoch 11/100\n",
      "25/25 [==============================] - 0s 8ms/step - loss: 0.0318 - accuracy: 0.9987 - val_loss: 1.1676 - val_accuracy: 0.7450\n",
      "Epoch 12/100\n",
      "25/25 [==============================] - 0s 8ms/step - loss: 0.0252 - accuracy: 1.0000 - val_loss: 1.2061 - val_accuracy: 0.7450\n",
      "Epoch 13/100\n",
      "25/25 [==============================] - 0s 8ms/step - loss: 0.0198 - accuracy: 1.0000 - val_loss: 1.2585 - val_accuracy: 0.7450\n",
      "Epoch 14/100\n",
      "25/25 [==============================] - 0s 8ms/step - loss: 0.0156 - accuracy: 1.0000 - val_loss: 1.2843 - val_accuracy: 0.7350\n",
      "Epoch 15/100\n",
      "25/25 [==============================] - 0s 9ms/step - loss: 0.0122 - accuracy: 1.0000 - val_loss: 1.3340 - val_accuracy: 0.7350\n",
      "Epoch 16/100\n",
      "25/25 [==============================] - 0s 9ms/step - loss: 0.0096 - accuracy: 1.0000 - val_loss: 1.3826 - val_accuracy: 0.7350\n",
      "Epoch 17/100\n",
      "25/25 [==============================] - 0s 9ms/step - loss: 0.0076 - accuracy: 1.0000 - val_loss: 1.4305 - val_accuracy: 0.7400\n",
      "Epoch 18/100\n",
      "25/25 [==============================] - 0s 8ms/step - loss: 0.0059 - accuracy: 1.0000 - val_loss: 1.4663 - val_accuracy: 0.7350\n",
      "Epoch 19/100\n",
      "25/25 [==============================] - 0s 8ms/step - loss: 0.0046 - accuracy: 1.0000 - val_loss: 1.5101 - val_accuracy: 0.7350\n",
      "Epoch 20/100\n",
      "25/25 [==============================] - 0s 9ms/step - loss: 0.0036 - accuracy: 1.0000 - val_loss: 1.5537 - val_accuracy: 0.7350\n",
      "Epoch 21/100\n",
      "25/25 [==============================] - 0s 9ms/step - loss: 0.0028 - accuracy: 1.0000 - val_loss: 1.5948 - val_accuracy: 0.7350\n",
      "Epoch 22/100\n",
      "25/25 [==============================] - 0s 9ms/step - loss: 0.0022 - accuracy: 1.0000 - val_loss: 1.6379 - val_accuracy: 0.7400\n",
      "Epoch 23/100\n",
      "25/25 [==============================] - 0s 8ms/step - loss: 0.0017 - accuracy: 1.0000 - val_loss: 1.6616 - val_accuracy: 0.7250\n",
      "Epoch 24/100\n",
      "25/25 [==============================] - 0s 9ms/step - loss: 0.0013 - accuracy: 1.0000 - val_loss: 1.7182 - val_accuracy: 0.7300\n",
      "Epoch 25/100\n",
      "25/25 [==============================] - 0s 9ms/step - loss: 0.0011 - accuracy: 1.0000 - val_loss: 1.7562 - val_accuracy: 0.7350\n",
      "Epoch 26/100\n",
      "25/25 [==============================] - 0s 9ms/step - loss: 8.4153e-04 - accuracy: 1.0000 - val_loss: 1.7796 - val_accuracy: 0.7250\n",
      "Epoch 27/100\n",
      "25/25 [==============================] - 0s 8ms/step - loss: 6.5222e-04 - accuracy: 1.0000 - val_loss: 1.8238 - val_accuracy: 0.7250\n",
      "Epoch 28/100\n",
      "25/25 [==============================] - 0s 8ms/step - loss: 5.1391e-04 - accuracy: 1.0000 - val_loss: 1.8591 - val_accuracy: 0.7200\n",
      "Epoch 29/100\n",
      "25/25 [==============================] - 0s 9ms/step - loss: 4.0539e-04 - accuracy: 1.0000 - val_loss: 1.8871 - val_accuracy: 0.7200\n",
      "Epoch 30/100\n",
      "25/25 [==============================] - 0s 9ms/step - loss: 3.1791e-04 - accuracy: 1.0000 - val_loss: 1.9255 - val_accuracy: 0.7200\n",
      "Epoch 31/100\n",
      "25/25 [==============================] - 0s 9ms/step - loss: 2.5049e-04 - accuracy: 1.0000 - val_loss: 1.9679 - val_accuracy: 0.7200\n",
      "Epoch 32/100\n",
      "25/25 [==============================] - 0s 9ms/step - loss: 1.9819e-04 - accuracy: 1.0000 - val_loss: 1.9883 - val_accuracy: 0.7150\n",
      "Epoch 33/100\n",
      "25/25 [==============================] - 0s 9ms/step - loss: 1.5539e-04 - accuracy: 1.0000 - val_loss: 2.0177 - val_accuracy: 0.7150\n",
      "Epoch 34/100\n",
      "25/25 [==============================] - 0s 8ms/step - loss: 1.2054e-04 - accuracy: 1.0000 - val_loss: 2.0490 - val_accuracy: 0.7200\n",
      "Epoch 35/100\n",
      "25/25 [==============================] - 0s 9ms/step - loss: 9.5398e-05 - accuracy: 1.0000 - val_loss: 2.0723 - val_accuracy: 0.7150\n",
      "Epoch 36/100\n",
      "25/25 [==============================] - 0s 8ms/step - loss: 7.3407e-05 - accuracy: 1.0000 - val_loss: 2.1103 - val_accuracy: 0.7200\n",
      "Epoch 37/100\n",
      "25/25 [==============================] - 0s 8ms/step - loss: 5.7889e-05 - accuracy: 1.0000 - val_loss: 2.1329 - val_accuracy: 0.7150\n",
      "Epoch 38/100\n",
      "25/25 [==============================] - 0s 8ms/step - loss: 4.5817e-05 - accuracy: 1.0000 - val_loss: 2.1598 - val_accuracy: 0.7150\n",
      "Epoch 39/100\n",
      "25/25 [==============================] - 0s 9ms/step - loss: 3.5723e-05 - accuracy: 1.0000 - val_loss: 2.1935 - val_accuracy: 0.7200\n",
      "Epoch 40/100\n",
      "25/25 [==============================] - 0s 9ms/step - loss: 2.8674e-05 - accuracy: 1.0000 - val_loss: 2.2128 - val_accuracy: 0.7150\n",
      "Epoch 41/100\n",
      "25/25 [==============================] - 0s 9ms/step - loss: 2.2194e-05 - accuracy: 1.0000 - val_loss: 2.2446 - val_accuracy: 0.7100\n",
      "Epoch 42/100\n",
      "25/25 [==============================] - 0s 8ms/step - loss: 1.8090e-05 - accuracy: 1.0000 - val_loss: 2.2682 - val_accuracy: 0.7200\n",
      "Epoch 43/100\n",
      "25/25 [==============================] - 0s 9ms/step - loss: 1.3721e-05 - accuracy: 1.0000 - val_loss: 2.2938 - val_accuracy: 0.7150\n",
      "Epoch 44/100\n",
      "25/25 [==============================] - 0s 9ms/step - loss: 1.0956e-05 - accuracy: 1.0000 - val_loss: 2.3188 - val_accuracy: 0.7150\n",
      "Epoch 45/100\n",
      "25/25 [==============================] - 0s 9ms/step - loss: 8.5458e-06 - accuracy: 1.0000 - val_loss: 2.3464 - val_accuracy: 0.7200\n",
      "Epoch 46/100\n",
      "25/25 [==============================] - 0s 8ms/step - loss: 6.7319e-06 - accuracy: 1.0000 - val_loss: 2.3660 - val_accuracy: 0.7150\n",
      "Epoch 47/100\n",
      "25/25 [==============================] - 0s 8ms/step - loss: 5.3670e-06 - accuracy: 1.0000 - val_loss: 2.3919 - val_accuracy: 0.7150\n",
      "Epoch 48/100\n",
      "25/25 [==============================] - 0s 9ms/step - loss: 4.2308e-06 - accuracy: 1.0000 - val_loss: 2.4122 - val_accuracy: 0.7150\n",
      "Epoch 49/100\n",
      "25/25 [==============================] - 0s 9ms/step - loss: 3.2975e-06 - accuracy: 1.0000 - val_loss: 2.4431 - val_accuracy: 0.7150\n",
      "Epoch 50/100\n",
      "25/25 [==============================] - 0s 9ms/step - loss: 2.7462e-06 - accuracy: 1.0000 - val_loss: 2.4614 - val_accuracy: 0.7150\n",
      "Epoch 51/100\n",
      "25/25 [==============================] - 0s 9ms/step - loss: 2.1628e-06 - accuracy: 1.0000 - val_loss: 2.4772 - val_accuracy: 0.7150\n",
      "Epoch 52/100\n",
      "25/25 [==============================] - 0s 9ms/step - loss: 1.7949e-06 - accuracy: 1.0000 - val_loss: 2.5016 - val_accuracy: 0.7150\n",
      "Epoch 53/100\n",
      "25/25 [==============================] - 0s 9ms/step - loss: 1.4647e-06 - accuracy: 1.0000 - val_loss: 2.5226 - val_accuracy: 0.7150\n",
      "Epoch 54/100\n",
      "25/25 [==============================] - 0s 8ms/step - loss: 1.2064e-06 - accuracy: 1.0000 - val_loss: 2.5369 - val_accuracy: 0.7150\n",
      "Epoch 55/100\n",
      "25/25 [==============================] - 0s 8ms/step - loss: 1.0089e-06 - accuracy: 1.0000 - val_loss: 2.5593 - val_accuracy: 0.7150\n",
      "Epoch 56/100\n",
      "25/25 [==============================] - 0s 8ms/step - loss: 8.4891e-07 - accuracy: 1.0000 - val_loss: 2.5705 - val_accuracy: 0.7150\n",
      "Epoch 57/100\n",
      "25/25 [==============================] - 0s 8ms/step - loss: 7.1942e-07 - accuracy: 1.0000 - val_loss: 2.5971 - val_accuracy: 0.7150\n"
     ]
    },
    {
     "name": "stdout",
     "output_type": "stream",
     "text": [
      "Epoch 58/100\n",
      "25/25 [==============================] - 0s 8ms/step - loss: 6.2003e-07 - accuracy: 1.0000 - val_loss: 2.6135 - val_accuracy: 0.7200\n",
      "Epoch 59/100\n",
      "25/25 [==============================] - 0s 8ms/step - loss: 5.3286e-07 - accuracy: 1.0000 - val_loss: 2.6219 - val_accuracy: 0.7150\n",
      "Epoch 60/100\n",
      "25/25 [==============================] - 0s 9ms/step - loss: 4.6357e-07 - accuracy: 1.0000 - val_loss: 2.6365 - val_accuracy: 0.7150\n",
      "Epoch 61/100\n",
      "25/25 [==============================] - 0s 8ms/step - loss: 4.0725e-07 - accuracy: 1.0000 - val_loss: 2.6546 - val_accuracy: 0.7200\n",
      "Epoch 62/100\n",
      "25/25 [==============================] - 0s 9ms/step - loss: 3.6254e-07 - accuracy: 1.0000 - val_loss: 2.6631 - val_accuracy: 0.7150\n",
      "Epoch 63/100\n",
      "25/25 [==============================] - 0s 9ms/step - loss: 3.2216e-07 - accuracy: 1.0000 - val_loss: 2.6719 - val_accuracy: 0.7150\n",
      "Epoch 64/100\n",
      "25/25 [==============================] - 0s 8ms/step - loss: 2.8923e-07 - accuracy: 1.0000 - val_loss: 2.6819 - val_accuracy: 0.7200\n",
      "Epoch 65/100\n",
      "25/25 [==============================] - 0s 8ms/step - loss: 2.6286e-07 - accuracy: 1.0000 - val_loss: 2.6895 - val_accuracy: 0.7200\n",
      "Epoch 66/100\n",
      "25/25 [==============================] - 0s 8ms/step - loss: 2.3693e-07 - accuracy: 1.0000 - val_loss: 2.7046 - val_accuracy: 0.7200\n",
      "Epoch 67/100\n",
      "25/25 [==============================] - 0s 8ms/step - loss: 2.1726e-07 - accuracy: 1.0000 - val_loss: 2.7151 - val_accuracy: 0.7150\n",
      "Epoch 68/100\n",
      "25/25 [==============================] - 0s 9ms/step - loss: 1.9982e-07 - accuracy: 1.0000 - val_loss: 2.7231 - val_accuracy: 0.7150\n",
      "Epoch 69/100\n",
      "25/25 [==============================] - 0s 8ms/step - loss: 1.8373e-07 - accuracy: 1.0000 - val_loss: 2.7258 - val_accuracy: 0.7200\n",
      "Epoch 70/100\n",
      "25/25 [==============================] - 0s 9ms/step - loss: 1.7256e-07 - accuracy: 1.0000 - val_loss: 2.7387 - val_accuracy: 0.7150\n",
      "Epoch 71/100\n",
      "25/25 [==============================] - 0s 8ms/step - loss: 1.5840e-07 - accuracy: 1.0000 - val_loss: 2.7443 - val_accuracy: 0.7250\n",
      "Epoch 72/100\n",
      "25/25 [==============================] - 0s 8ms/step - loss: 1.4842e-07 - accuracy: 1.0000 - val_loss: 2.7494 - val_accuracy: 0.7200\n",
      "Epoch 73/100\n",
      "25/25 [==============================] - 0s 9ms/step - loss: 1.3798e-07 - accuracy: 1.0000 - val_loss: 2.7516 - val_accuracy: 0.7200\n",
      "Epoch 74/100\n",
      "25/25 [==============================] - 0s 8ms/step - loss: 1.3024e-07 - accuracy: 1.0000 - val_loss: 2.7569 - val_accuracy: 0.7150\n",
      "Epoch 75/100\n",
      "25/25 [==============================] - 0s 8ms/step - loss: 1.2338e-07 - accuracy: 1.0000 - val_loss: 2.7630 - val_accuracy: 0.7200\n",
      "Epoch 76/100\n",
      "25/25 [==============================] - 0s 9ms/step - loss: 1.1727e-07 - accuracy: 1.0000 - val_loss: 2.7704 - val_accuracy: 0.7200\n",
      "Epoch 77/100\n",
      "25/25 [==============================] - 0s 8ms/step - loss: 1.1161e-07 - accuracy: 1.0000 - val_loss: 2.7747 - val_accuracy: 0.7200\n",
      "Epoch 78/100\n",
      "25/25 [==============================] - 0s 9ms/step - loss: 1.0461e-07 - accuracy: 1.0000 - val_loss: 2.7822 - val_accuracy: 0.7200\n",
      "Epoch 79/100\n",
      "25/25 [==============================] - 0s 8ms/step - loss: 9.8646e-08 - accuracy: 1.0000 - val_loss: 2.7871 - val_accuracy: 0.7200\n",
      "Epoch 80/100\n",
      "25/25 [==============================] - 0s 9ms/step - loss: 9.3430e-08 - accuracy: 1.0000 - val_loss: 2.7919 - val_accuracy: 0.7200\n",
      "Epoch 81/100\n",
      "25/25 [==============================] - 0s 8ms/step - loss: 8.9407e-08 - accuracy: 1.0000 - val_loss: 2.7961 - val_accuracy: 0.7200\n",
      "Epoch 82/100\n",
      "25/25 [==============================] - 0s 8ms/step - loss: 8.5831e-08 - accuracy: 1.0000 - val_loss: 2.7998 - val_accuracy: 0.7200\n",
      "Epoch 83/100\n",
      "25/25 [==============================] - 0s 9ms/step - loss: 8.2403e-08 - accuracy: 1.0000 - val_loss: 2.8039 - val_accuracy: 0.7200\n",
      "Epoch 84/100\n",
      "25/25 [==============================] - 0s 8ms/step - loss: 7.8082e-08 - accuracy: 1.0000 - val_loss: 2.8090 - val_accuracy: 0.7250\n",
      "Epoch 85/100\n",
      "25/25 [==============================] - 0s 8ms/step - loss: 7.4953e-08 - accuracy: 1.0000 - val_loss: 2.8116 - val_accuracy: 0.7200\n",
      "Epoch 86/100\n",
      "25/25 [==============================] - 0s 8ms/step - loss: 7.2867e-08 - accuracy: 1.0000 - val_loss: 2.8158 - val_accuracy: 0.7250\n",
      "Epoch 87/100\n",
      "25/25 [==============================] - 0s 9ms/step - loss: 7.0930e-08 - accuracy: 1.0000 - val_loss: 2.8188 - val_accuracy: 0.7150\n",
      "Epoch 88/100\n",
      "25/25 [==============================] - 0s 9ms/step - loss: 6.8694e-08 - accuracy: 1.0000 - val_loss: 2.8247 - val_accuracy: 0.7250\n",
      "Epoch 89/100\n",
      "25/25 [==============================] - 0s 9ms/step - loss: 6.6757e-08 - accuracy: 1.0000 - val_loss: 2.8248 - val_accuracy: 0.7150\n",
      "Epoch 90/100\n",
      "25/25 [==============================] - 0s 9ms/step - loss: 6.3777e-08 - accuracy: 1.0000 - val_loss: 2.8291 - val_accuracy: 0.7150\n",
      "Epoch 91/100\n",
      "25/25 [==============================] - 0s 9ms/step - loss: 6.1244e-08 - accuracy: 1.0000 - val_loss: 2.8351 - val_accuracy: 0.7250\n",
      "Epoch 92/100\n",
      "25/25 [==============================] - 0s 9ms/step - loss: 5.9158e-08 - accuracy: 1.0000 - val_loss: 2.8358 - val_accuracy: 0.7150\n",
      "Epoch 93/100\n",
      "25/25 [==============================] - 0s 9ms/step - loss: 5.7071e-08 - accuracy: 1.0000 - val_loss: 2.8401 - val_accuracy: 0.7200\n",
      "Epoch 94/100\n",
      "25/25 [==============================] - 0s 8ms/step - loss: 5.5581e-08 - accuracy: 1.0000 - val_loss: 2.8426 - val_accuracy: 0.7200\n",
      "Epoch 95/100\n",
      "25/25 [==============================] - 0s 9ms/step - loss: 5.3644e-08 - accuracy: 1.0000 - val_loss: 2.8433 - val_accuracy: 0.7150\n",
      "Epoch 96/100\n",
      "25/25 [==============================] - 0s 9ms/step - loss: 5.2303e-08 - accuracy: 1.0000 - val_loss: 2.8472 - val_accuracy: 0.7150\n",
      "Epoch 97/100\n",
      "25/25 [==============================] - 0s 9ms/step - loss: 5.0813e-08 - accuracy: 1.0000 - val_loss: 2.8486 - val_accuracy: 0.7150\n",
      "Epoch 98/100\n",
      "25/25 [==============================] - 0s 9ms/step - loss: 4.9323e-08 - accuracy: 1.0000 - val_loss: 2.8519 - val_accuracy: 0.7150\n",
      "Epoch 99/100\n",
      "25/25 [==============================] - 0s 8ms/step - loss: 4.8429e-08 - accuracy: 1.0000 - val_loss: 2.8559 - val_accuracy: 0.7150\n",
      "Epoch 100/100\n",
      "25/25 [==============================] - 0s 9ms/step - loss: 4.6790e-08 - accuracy: 1.0000 - val_loss: 2.8563 - val_accuracy: 0.7150\n"
     ]
    },
    {
     "data": {
      "text/plain": [
       "<tensorflow.python.keras.callbacks.History at 0x1a3c1792cd0>"
      ]
     },
     "execution_count": 53,
     "metadata": {},
     "output_type": "execute_result"
    }
   ],
   "source": [
    "model.fit(norm_vectorized_train, y_train_categorical, epochs=100, validation_data=(norm_vectorized_test, y_test_categorical))"
   ]
  },
  {
   "cell_type": "code",
   "execution_count": 65,
   "metadata": {},
   "outputs": [],
   "source": [
    "sentence = [\"trash\"]\n",
    "test = vectorizer.transform(sentence).toarray()"
   ]
  },
  {
   "cell_type": "code",
   "execution_count": 66,
   "metadata": {},
   "outputs": [
    {
     "data": {
      "text/plain": [
       "array([[4.68093762e-03, 1.24630695e-02, 2.80869249e-02, 9.54252124e-01,\n",
       "        5.16922097e-04]], dtype=float32)"
      ]
     },
     "execution_count": 66,
     "metadata": {},
     "output_type": "execute_result"
    }
   ],
   "source": [
    "model.predict(test)"
   ]
  },
  {
   "cell_type": "code",
   "execution_count": 67,
   "metadata": {},
   "outputs": [
    {
     "name": "stdout",
     "output_type": "stream",
     "text": [
      "4\n"
     ]
    }
   ],
   "source": [
    "prediction = model.predict(test).tolist()[0]\n",
    "score = prediction.index((max(prediction)))\n",
    "print(score + 1)"
   ]
  }
 ],
 "metadata": {
  "kernelspec": {
   "display_name": "Python 3",
   "language": "python",
   "name": "python3"
  },
  "language_info": {
   "codemirror_mode": {
    "name": "ipython",
    "version": 3
   },
   "file_extension": ".py",
   "mimetype": "text/x-python",
   "name": "python",
   "nbconvert_exporter": "python",
   "pygments_lexer": "ipython3",
   "version": "3.8.5"
  }
 },
 "nbformat": 4,
 "nbformat_minor": 4
}
