{
 "cells": [
  {
   "cell_type": "code",
   "execution_count": 34,
   "metadata": {},
   "outputs": [],
   "source": [
    "import csv\n",
    "import os\n",
    "import pandas as pd\n",
    "import sklearn\n",
    "from sklearn.preprocessing import LabelEncoder, MinMaxScaler\n",
    "from tensorflow.keras.utils import to_categorical\n",
    "from tensorflow.keras.models import Sequential\n",
    "from tensorflow.keras.layers import Dense\n",
    "from tensorflow.keras.models import load_model\n",
    "from sklearn.model_selection import train_test_split\n",
    "from sklearn.preprocessing import StandardScaler\n",
    "import matplotlib.pyplot as plt\n",
    "import numpy as np\n",
    "import tensorflow as tf\n",
    "from tensorflow.keras.preprocessing.text import Tokenizer\n",
    "from tensorflow.keras.preprocessing.sequence import pad_sequences\n",
    "from sklearn.metrics import classification_report\n",
    "import nltk\n",
    "from sklearn.feature_extraction.text import TfidfVectorizer\n",
    "from nltk.corpus import stopwords \n",
    "from tensorflow.keras.models import load_model\n",
    "from sklearn.metrics import confusion_matrix\n",
    "import seaborn as sns\n",
    "from tensorflow import keras\n",
    "import string\n",
    "import re\n",
    "from sklearn.preprocessing import Normalizer\n",
    "vectorizer = TfidfVectorizer()\n",
    "tfidf_vect = TfidfVectorizer()\n",
    "wn = nltk.WordNetLemmatizer()\n",
    "string.punctuation\n",
    "stop = stopwords.words('english')\n"
   ]
  },
  {
   "cell_type": "code",
   "execution_count": 154,
   "metadata": {},
   "outputs": [],
   "source": [
    "# functions to read Amazon data into a pandas data frame\n",
    "def parse(path):\n",
    "    g = gzip.open(path, 'rb')\n",
    "    for l in g:\n",
    "        yield eval(l)\n",
    "\n",
    "def getDF(path):\n",
    "    i = 0\n",
    "    df = {}\n",
    "    for d in parse(path):\n",
    "        df[i] = d\n",
    "        i += 1\n",
    "    return pd.DataFrame.from_dict(df, orient='index')\n",
    "\n",
    "# function to concatenate multiple Amazon datasets\n",
    "def concatDF(data):\n",
    "    df = pd.DataFrame()\n",
    "    for dataset in data:\n",
    "        dftemp = getDF(dataset)\n",
    "        df = pd.concat([df, dftemp], axis=0)\n",
    "    # drop unneeded columns\n",
    "    df.drop(columns = ['reviewerID', 'asin', 'reviewerName', 'helpful', \\\n",
    "                       'summary', 'unixReviewTime', 'reviewTime'], inplace= True)\n",
    "    return df\n",
    "\n",
    "def remove_punct(text):\n",
    "    text_nopunct = \"\".join([char for char in text if char not in string.punctuation])\n",
    "    return text_nopunct\n",
    "\n",
    "def tokenize(text):\n",
    "    tokens = re.split('\\W+', text)\n",
    "    return tokens\n",
    "\n",
    "def remove_stopwords(tokenized_list):\n",
    "    text = [word for word in tokenized_list if word not in stop]# To remove all stopwords\n",
    "    return text\n",
    "\n",
    "def lemmatizing(tokenized_text):\n",
    "    text = [wn.lemmatize(word) for word in tokenized_text]\n",
    "    return text\n",
    "\n",
    "def lema(df,column):\n",
    "    df['body_text_clean'] = df[column].apply(lambda x: remove_punct(x))\n",
    "    df['body_text_tokenized'] = df['body_text_clean'].apply(lambda x: tokenize(x.lower()))\n",
    "    df['body_text_nostop'] = df['body_text_tokenized'].apply(lambda x: remove_stopwords(x))\n",
    "    df['body_text_lemmatized'] = df['body_text_nostop'].apply(lambda x: lemmatizing(x))\n",
    "    it_list = []\n",
    "    for row in df['body_text_lemmatized']:\n",
    "        it_list.append(\" \".join(row))\n",
    "    df['joined_lemm'] = it_list\n",
    "    final_df = pd.DataFrame()\n",
    "    final_df['sentiment'] = df['sentiment']\n",
    "    final_df['joined_lemm'] = df['joined_lemm']\n",
    "    return final_df\n",
    "\n",
    "def plot_metrics(history):\n",
    "    metrics = ['loss', 'prc', 'precision', 'recall']\n",
    "    for n, metric in enumerate(metrics):\n",
    "        name = metric.replace(\"_\",\" \").capitalize()\n",
    "        plt.subplot(2,2,n+1)\n",
    "        plt.plot(history.epoch, history.history[metric], color=colors[0], label='Train')\n",
    "        plt.plot(history.epoch, history.history['val_'+metric],\n",
    "             color=colors[0], linestyle=\"--\", label='Val')\n",
    "        plt.xlabel('Epoch')\n",
    "        plt.ylabel(name)\n",
    "    if metric == 'loss':\n",
    "        plt.ylim([0, plt.ylim()[1]])\n",
    "    elif metric == 'auc':\n",
    "        plt.ylim([0.8,1])\n",
    "    else:\n",
    "        plt.ylim([0,1])\n",
    "\n",
    "    plt.legend()\n",
    "\n",
    "def plot_cm(labels, predictions, p=0.5):\n",
    "    cm = confusion_matrix(labels, predictions > p)\n",
    "    plt.figure(figsize=(5,5))\n",
    "    sns.heatmap(cm, annot=True, fmt=\"d\")\n",
    "    plt.title('Confusion matrix @{:.2f}'.format(p))\n",
    "    plt.ylabel('Actual label')\n",
    "    plt.xlabel('Predicted label')\n",
    "\n",
    "    print('Legitimate Transactions Detected (True Negatives): ', cm[0][0])\n",
    "    print('Legitimate Transactions Incorrectly Detected (False Positives): ', cm[0][1])\n",
    "    print('Fraudulent Transactions Missed (False Negatives): ', cm[1][0])\n",
    "    print('Fraudulent Transactions Detected (True Positives): ', cm[1][1])\n",
    "    print('Total Fraudulent Transactions: ', np.sum(cm[1]))\n",
    "    \n",
    "def plot_roc(name, labels, predictions, **kwargs):\n",
    "    fp, tp, _ = sklearn.metrics.roc_curve(labels, predictions)\n",
    "\n",
    "    plt.plot(100*fp, 100*tp, label=name, linewidth=2, **kwargs)\n",
    "    plt.xlabel('False positives [%]')\n",
    "    plt.ylabel('True positives [%]')\n",
    "    plt.xlim([-0.5,20])\n",
    "    plt.ylim([80,100.5])\n",
    "    plt.grid(True)\n",
    "    ax = plt.gca()\n",
    "    ax.set_aspect('equal')\n",
    "    \n",
    "def make_model(metrics=METRICS, output_bias=None):\n",
    "    if output_bias is not None:\n",
    "        output_bias = tf.keras.initializers.Constant(output_bias)\n",
    "    model = keras.Sequential([\n",
    "        keras.layers.Dense(\n",
    "            16, activation='relu',\n",
    "            input_shape=(train_features.shape[-1],)),\n",
    "        keras.layers.Dense(50, activation='relu'),\n",
    "        keras.layers.Dense(50, activation='relu'),\n",
    "        keras.layers.Dropout(0.5),\n",
    "\n",
    "        keras.layers.Dense(1, activation='sigmoid',\n",
    "                         bias_initializer=output_bias),\n",
    "  ])\n",
    "\n",
    "    model.compile(\n",
    "        optimizer=keras.optimizers.Adam(learning_rate=1e-3),\n",
    "        loss=keras.losses.BinaryCrossentropy(),\n",
    "        metrics=metrics)\n",
    "\n",
    "    return model"
   ]
  },
  {
   "cell_type": "code",
   "execution_count": 8,
   "metadata": {},
   "outputs": [],
   "source": [
    "read_csv = pd.read_csv('imdb_reviews_data.csv')"
   ]
  },
  {
   "cell_type": "code",
   "execution_count": 10,
   "metadata": {},
   "outputs": [
    {
     "data": {
      "text/html": [
       "<div>\n",
       "<style scoped>\n",
       "    .dataframe tbody tr th:only-of-type {\n",
       "        vertical-align: middle;\n",
       "    }\n",
       "\n",
       "    .dataframe tbody tr th {\n",
       "        vertical-align: top;\n",
       "    }\n",
       "\n",
       "    .dataframe thead th {\n",
       "        text-align: right;\n",
       "    }\n",
       "</style>\n",
       "<table border=\"1\" class=\"dataframe\">\n",
       "  <thead>\n",
       "    <tr style=\"text-align: right;\">\n",
       "      <th></th>\n",
       "      <th>Unnamed: 0</th>\n",
       "      <th>text</th>\n",
       "      <th>sentiment</th>\n",
       "    </tr>\n",
       "  </thead>\n",
       "  <tbody>\n",
       "    <tr>\n",
       "      <th>0</th>\n",
       "      <td>0</td>\n",
       "      <td>Story of a man who has unnatural feelings for ...</td>\n",
       "      <td>negative</td>\n",
       "    </tr>\n",
       "    <tr>\n",
       "      <th>1</th>\n",
       "      <td>1</td>\n",
       "      <td>Airport '77 starts as a brand new luxury 747 p...</td>\n",
       "      <td>negative</td>\n",
       "    </tr>\n",
       "    <tr>\n",
       "      <th>2</th>\n",
       "      <td>2</td>\n",
       "      <td>This film lacked something I couldn't put my f...</td>\n",
       "      <td>negative</td>\n",
       "    </tr>\n",
       "    <tr>\n",
       "      <th>3</th>\n",
       "      <td>3</td>\n",
       "      <td>Sorry everyone,,, I know this is supposed to b...</td>\n",
       "      <td>negative</td>\n",
       "    </tr>\n",
       "    <tr>\n",
       "      <th>4</th>\n",
       "      <td>4</td>\n",
       "      <td>When I was little my parents took me along to ...</td>\n",
       "      <td>negative</td>\n",
       "    </tr>\n",
       "    <tr>\n",
       "      <th>...</th>\n",
       "      <td>...</td>\n",
       "      <td>...</td>\n",
       "      <td>...</td>\n",
       "    </tr>\n",
       "    <tr>\n",
       "      <th>49995</th>\n",
       "      <td>12495</td>\n",
       "      <td>I was extraordinarily impressed by this film. ...</td>\n",
       "      <td>positive</td>\n",
       "    </tr>\n",
       "    <tr>\n",
       "      <th>49996</th>\n",
       "      <td>12496</td>\n",
       "      <td>Although I'm not a golf fan, I attended a snea...</td>\n",
       "      <td>positive</td>\n",
       "    </tr>\n",
       "    <tr>\n",
       "      <th>49997</th>\n",
       "      <td>12497</td>\n",
       "      <td>From the start of \"The Edge Of Love\", the view...</td>\n",
       "      <td>positive</td>\n",
       "    </tr>\n",
       "    <tr>\n",
       "      <th>49998</th>\n",
       "      <td>12498</td>\n",
       "      <td>This movie, with all its complexity and subtle...</td>\n",
       "      <td>positive</td>\n",
       "    </tr>\n",
       "    <tr>\n",
       "      <th>49999</th>\n",
       "      <td>12499</td>\n",
       "      <td>I've seen this story before but my kids haven'...</td>\n",
       "      <td>positive</td>\n",
       "    </tr>\n",
       "  </tbody>\n",
       "</table>\n",
       "<p>50000 rows × 3 columns</p>\n",
       "</div>"
      ],
      "text/plain": [
       "       Unnamed: 0                                               text sentiment\n",
       "0               0  Story of a man who has unnatural feelings for ...  negative\n",
       "1               1  Airport '77 starts as a brand new luxury 747 p...  negative\n",
       "2               2  This film lacked something I couldn't put my f...  negative\n",
       "3               3  Sorry everyone,,, I know this is supposed to b...  negative\n",
       "4               4  When I was little my parents took me along to ...  negative\n",
       "...           ...                                                ...       ...\n",
       "49995       12495  I was extraordinarily impressed by this film. ...  positive\n",
       "49996       12496  Although I'm not a golf fan, I attended a snea...  positive\n",
       "49997       12497  From the start of \"The Edge Of Love\", the view...  positive\n",
       "49998       12498  This movie, with all its complexity and subtle...  positive\n",
       "49999       12499  I've seen this story before but my kids haven'...  positive\n",
       "\n",
       "[50000 rows x 3 columns]"
      ]
     },
     "execution_count": 10,
     "metadata": {},
     "output_type": "execute_result"
    }
   ],
   "source": [
    "df = pd.DataFrame(read_csv)\n",
    "df"
   ]
  },
  {
   "cell_type": "code",
   "execution_count": 109,
   "metadata": {},
   "outputs": [],
   "source": [
    "clean_df = lema(df,'text')\n",
    "clean_df = clean_df.iloc[np.random.choice(np.arange(len(df)), 5000, False)]"
   ]
  },
  {
   "cell_type": "code",
   "execution_count": 110,
   "metadata": {},
   "outputs": [],
   "source": [
    "clean_df['sentiments'] = df.sentiment.apply(lambda x: 1 if x in ['positive'] else 0)"
   ]
  },
  {
   "cell_type": "code",
   "execution_count": 116,
   "metadata": {},
   "outputs": [],
   "source": [
    "x = clean_df['joined_lemm']\n",
    "y = clean_df['sentiments']\n",
    "X_train, X_test, y_train, y_test = train_test_split(x, y, test_size=0.2)\n",
    "X_test, X_val, y_test, y_val = train_test_split(X_test, y_test, test_size=0.2)\n",
    "vectorizer = TfidfVectorizer()\n",
    "vectorizer.fit(X_train)\n",
    "vectorized_train = vectorizer.transform(X_train).toarray()\n",
    "vectorized_test = vectorizer.transform(X_test).toarray()\n",
    "vectorized_val = vectorizer.transform(X_val).toarray()\n",
    "norm = Normalizer().fit(vectorized_train)\n",
    "norm_vectorized_train = norm.transform(vectorized_train)\n",
    "norm_vectorized_test = norm.transform(vectorized_test)\n",
    "norm_vectorized_val = norm.transform(vectorized_val)\n",
    "\n",
    "label_encoder = LabelEncoder()\n",
    "label_encoder.fit(y_train)\n",
    "\n",
    "encoded_y_train = label_encoder.transform(y_train)\n",
    "encoded_y_test = label_encoder.transform(y_test)\n",
    "\n",
    "y_train_categorical = to_categorical(encoded_y_train)\n",
    "y_test_categorical = to_categorical(encoded_y_test) "
   ]
  },
  {
   "cell_type": "code",
   "execution_count": 156,
   "metadata": {},
   "outputs": [],
   "source": [
    "export_vector = vectorizer.fit(X_train)"
   ]
  },
  {
   "cell_type": "code",
   "execution_count": 113,
   "metadata": {},
   "outputs": [
    {
     "name": "stdout",
     "output_type": "stream",
     "text": [
      "Examples:\n",
      "    Total: 5000\n",
      "    Positive: 2497 (49.94% of total)\n",
      "\n"
     ]
    }
   ],
   "source": [
    "neg, pos = np.bincount(clean_df['sentiments'])\n",
    "total = neg + pos\n",
    "print('Examples:\\n    Total: {}\\n    Positive: {} ({:.2f}% of total)\\n'.format(\n",
    "    total, pos, 100 * pos / total))"
   ]
  },
  {
   "cell_type": "code",
   "execution_count": 126,
   "metadata": {},
   "outputs": [],
   "source": [
    "train_labels = np.array(y_train)\n",
    "bool_train_labels = train_labels != 0\n",
    "val_labels = np.array(y_val)\n",
    "test_labels = np.array(y_test)\n",
    "\n",
    "train_features = norm_vectorized_train\n",
    "val_features = norm_vectorized_val\n",
    "test_features = norm_vectorized_test"
   ]
  },
  {
   "cell_type": "code",
   "execution_count": 127,
   "metadata": {},
   "outputs": [
    {
     "name": "stdout",
     "output_type": "stream",
     "text": [
      "Training labels shape: (4000,)\n",
      "Validation labels shape: (200,)\n",
      "Test labels shape: (800,)\n",
      "Training features shape: (4000, 40745)\n",
      "Validation features shape: (200, 40745)\n",
      "Test features shape: (800, 40745)\n"
     ]
    }
   ],
   "source": [
    "\n",
    "train_features = np.clip(train_features, -5, 5)\n",
    "val_features = np.clip(val_features, -5, 5)\n",
    "test_features = np.clip(test_features, -5, 5)\n",
    "\n",
    "\n",
    "print('Training labels shape:', train_labels.shape)\n",
    "print('Validation labels shape:', val_labels.shape)\n",
    "print('Test labels shape:', test_labels.shape)\n",
    "\n",
    "print('Training features shape:', train_features.shape)\n",
    "print('Validation features shape:', val_features.shape)\n",
    "print('Test features shape:', test_features.shape)"
   ]
  },
  {
   "cell_type": "code",
   "execution_count": 128,
   "metadata": {},
   "outputs": [],
   "source": [
    "METRICS = [\n",
    "      keras.metrics.TruePositives(name='tp'),\n",
    "      keras.metrics.FalsePositives(name='fp'),\n",
    "      keras.metrics.TrueNegatives(name='tn'),\n",
    "      keras.metrics.FalseNegatives(name='fn'), \n",
    "      keras.metrics.BinaryAccuracy(name='accuracy'),\n",
    "      keras.metrics.Precision(name='precision'),\n",
    "      keras.metrics.Recall(name='recall'),\n",
    "      keras.metrics.AUC(name='auc'),\n",
    "      keras.metrics.AUC(name='prc', curve='PR'), # precision-recall curve\n",
    "]\n",
    "\n"
   ]
  },
  {
   "cell_type": "code",
   "execution_count": 129,
   "metadata": {},
   "outputs": [],
   "source": [
    "EPOCHS = 50\n",
    "BATCH_SIZE = 2048\n",
    "\n",
    "early_stopping = tf.keras.callbacks.EarlyStopping(\n",
    "    monitor='val_prc', \n",
    "    verbose=1,\n",
    "    patience=10,\n",
    "    mode='max',\n",
    "    restore_best_weights=True)"
   ]
  },
  {
   "cell_type": "code",
   "execution_count": 130,
   "metadata": {},
   "outputs": [
    {
     "name": "stdout",
     "output_type": "stream",
     "text": [
      "Model: \"sequential_13\"\n",
      "_________________________________________________________________\n",
      "Layer (type)                 Output Shape              Param #   \n",
      "=================================================================\n",
      "dense_50 (Dense)             (None, 16)                651936    \n",
      "_________________________________________________________________\n",
      "dense_51 (Dense)             (None, 50)                850       \n",
      "_________________________________________________________________\n",
      "dense_52 (Dense)             (None, 50)                2550      \n",
      "_________________________________________________________________\n",
      "dropout_12 (Dropout)         (None, 50)                0         \n",
      "_________________________________________________________________\n",
      "dense_53 (Dense)             (None, 1)                 51        \n",
      "=================================================================\n",
      "Total params: 655,387\n",
      "Trainable params: 655,387\n",
      "Non-trainable params: 0\n",
      "_________________________________________________________________\n"
     ]
    }
   ],
   "source": [
    "model = make_model()\n",
    "model.summary()"
   ]
  },
  {
   "cell_type": "code",
   "execution_count": 132,
   "metadata": {},
   "outputs": [
    {
     "name": "stdout",
     "output_type": "stream",
     "text": [
      "Loss: 0.8871\n"
     ]
    }
   ],
   "source": [
    "results = model.evaluate(train_features, train_labels, batch_size=BATCH_SIZE, verbose=0)\n",
    "print(\"Loss: {:0.4f}\".format(results[0]))"
   ]
  },
  {
   "cell_type": "code",
   "execution_count": 135,
   "metadata": {},
   "outputs": [
    {
     "name": "stdout",
     "output_type": "stream",
     "text": [
      "Epoch 1/50\n",
      "2/2 [==============================] - 4s 1s/step - loss: 0.8059 - tp: 51.0000 - fp: 5.0000 - tn: 2086.0000 - fn: 2058.0000 - accuracy: 0.5088 - precision: 0.9107 - recall: 0.0242 - auc: 0.5169 - prc: 0.5306 - val_loss: 0.7276 - val_tp: 0.0000e+00 - val_fp: 0.0000e+00 - val_tn: 115.0000 - val_fn: 85.0000 - val_accuracy: 0.5750 - val_precision: 0.0000e+00 - val_recall: 0.0000e+00 - val_auc: 0.5000 - val_prc: 0.4250\n",
      "Epoch 2/50\n",
      "2/2 [==============================] - 0s 254ms/step - loss: 0.8018 - tp: 0.0000e+00 - fp: 0.0000e+00 - tn: 1976.0000 - fn: 2024.0000 - accuracy: 0.4940 - precision: 0.0000e+00 - recall: 0.0000e+00 - auc: 0.5194 - prc: 0.5371 - val_loss: 0.7247 - val_tp: 0.0000e+00 - val_fp: 0.0000e+00 - val_tn: 115.0000 - val_fn: 85.0000 - val_accuracy: 0.5750 - val_precision: 0.0000e+00 - val_recall: 0.0000e+00 - val_auc: 0.6125 - val_prc: 0.4911\n",
      "Epoch 3/50\n",
      "2/2 [==============================] - 1s 287ms/step - loss: 0.7969 - tp: 0.0000e+00 - fp: 0.0000e+00 - tn: 1976.0000 - fn: 2024.0000 - accuracy: 0.4940 - precision: 0.0000e+00 - recall: 0.0000e+00 - auc: 0.5453 - prc: 0.5570 - val_loss: 0.7211 - val_tp: 0.0000e+00 - val_fp: 0.0000e+00 - val_tn: 115.0000 - val_fn: 85.0000 - val_accuracy: 0.5750 - val_precision: 0.0000e+00 - val_recall: 0.0000e+00 - val_auc: 0.5934 - val_prc: 0.4894\n",
      "Epoch 4/50\n",
      "2/2 [==============================] - 1s 373ms/step - loss: 0.7909 - tp: 0.0000e+00 - fp: 0.0000e+00 - tn: 1976.0000 - fn: 2024.0000 - accuracy: 0.4940 - precision: 0.0000e+00 - recall: 0.0000e+00 - auc: 0.5806 - prc: 0.5972 - val_loss: 0.7171 - val_tp: 0.0000e+00 - val_fp: 0.0000e+00 - val_tn: 115.0000 - val_fn: 85.0000 - val_accuracy: 0.5750 - val_precision: 0.0000e+00 - val_recall: 0.0000e+00 - val_auc: 0.6423 - val_prc: 0.5439\n",
      "Epoch 5/50\n",
      "2/2 [==============================] - 1s 306ms/step - loss: 0.7840 - tp: 0.0000e+00 - fp: 0.0000e+00 - tn: 1976.0000 - fn: 2024.0000 - accuracy: 0.4940 - precision: 0.0000e+00 - recall: 0.0000e+00 - auc: 0.5949 - prc: 0.6205 - val_loss: 0.7125 - val_tp: 0.0000e+00 - val_fp: 0.0000e+00 - val_tn: 115.0000 - val_fn: 85.0000 - val_accuracy: 0.5750 - val_precision: 0.0000e+00 - val_recall: 0.0000e+00 - val_auc: 0.6441 - val_prc: 0.5339\n",
      "Epoch 6/50\n",
      "2/2 [==============================] - 1s 327ms/step - loss: 0.7763 - tp: 0.0000e+00 - fp: 0.0000e+00 - tn: 1976.0000 - fn: 2024.0000 - accuracy: 0.4940 - precision: 0.0000e+00 - recall: 0.0000e+00 - auc: 0.6141 - prc: 0.6308 - val_loss: 0.7075 - val_tp: 0.0000e+00 - val_fp: 0.0000e+00 - val_tn: 115.0000 - val_fn: 85.0000 - val_accuracy: 0.5750 - val_precision: 0.0000e+00 - val_recall: 0.0000e+00 - val_auc: 0.6570 - val_prc: 0.5525\n",
      "Epoch 7/50\n",
      "2/2 [==============================] - 1s 281ms/step - loss: 0.7677 - tp: 0.0000e+00 - fp: 0.0000e+00 - tn: 1976.0000 - fn: 2024.0000 - accuracy: 0.4940 - precision: 0.0000e+00 - recall: 0.0000e+00 - auc: 0.6253 - prc: 0.6470 - val_loss: 0.7020 - val_tp: 0.0000e+00 - val_fp: 0.0000e+00 - val_tn: 115.0000 - val_fn: 85.0000 - val_accuracy: 0.5750 - val_precision: 0.0000e+00 - val_recall: 0.0000e+00 - val_auc: 0.6579 - val_prc: 0.5618\n",
      "Epoch 8/50\n",
      "2/2 [==============================] - 1s 287ms/step - loss: 0.7580 - tp: 0.0000e+00 - fp: 0.0000e+00 - tn: 1976.0000 - fn: 2024.0000 - accuracy: 0.4940 - precision: 0.0000e+00 - recall: 0.0000e+00 - auc: 0.6454 - prc: 0.6657 - val_loss: 0.6961 - val_tp: 0.0000e+00 - val_fp: 0.0000e+00 - val_tn: 115.0000 - val_fn: 85.0000 - val_accuracy: 0.5750 - val_precision: 0.0000e+00 - val_recall: 0.0000e+00 - val_auc: 0.7100 - val_prc: 0.6113\n",
      "Epoch 9/50\n",
      "2/2 [==============================] - 1s 315ms/step - loss: 0.7468 - tp: 0.0000e+00 - fp: 0.0000e+00 - tn: 1976.0000 - fn: 2024.0000 - accuracy: 0.4940 - precision: 0.0000e+00 - recall: 0.0000e+00 - auc: 0.6743 - prc: 0.6921 - val_loss: 0.6900 - val_tp: 0.0000e+00 - val_fp: 0.0000e+00 - val_tn: 115.0000 - val_fn: 85.0000 - val_accuracy: 0.5750 - val_precision: 0.0000e+00 - val_recall: 0.0000e+00 - val_auc: 0.7063 - val_prc: 0.6096\n",
      "Epoch 10/50\n",
      "2/2 [==============================] - 1s 295ms/step - loss: 0.7350 - tp: 0.0000e+00 - fp: 0.0000e+00 - tn: 1976.0000 - fn: 2024.0000 - accuracy: 0.4940 - precision: 0.0000e+00 - recall: 0.0000e+00 - auc: 0.6855 - prc: 0.7065 - val_loss: 0.6837 - val_tp: 0.0000e+00 - val_fp: 0.0000e+00 - val_tn: 115.0000 - val_fn: 85.0000 - val_accuracy: 0.5750 - val_precision: 0.0000e+00 - val_recall: 0.0000e+00 - val_auc: 0.7277 - val_prc: 0.6282\n",
      "Epoch 11/50\n",
      "2/2 [==============================] - 1s 398ms/step - loss: 0.7204 - tp: 0.0000e+00 - fp: 0.0000e+00 - tn: 1976.0000 - fn: 2024.0000 - accuracy: 0.4940 - precision: 0.0000e+00 - recall: 0.0000e+00 - auc: 0.7185 - prc: 0.7410 - val_loss: 0.6773 - val_tp: 0.0000e+00 - val_fp: 0.0000e+00 - val_tn: 115.0000 - val_fn: 85.0000 - val_accuracy: 0.5750 - val_precision: 0.0000e+00 - val_recall: 0.0000e+00 - val_auc: 0.7309 - val_prc: 0.6338\n",
      "Epoch 12/50\n",
      "2/2 [==============================] - 1s 291ms/step - loss: 0.7064 - tp: 5.0000 - fp: 0.0000e+00 - tn: 1976.0000 - fn: 2019.0000 - accuracy: 0.4952 - precision: 1.0000 - recall: 0.0025 - auc: 0.7325 - prc: 0.7539 - val_loss: 0.6710 - val_tp: 0.0000e+00 - val_fp: 0.0000e+00 - val_tn: 115.0000 - val_fn: 85.0000 - val_accuracy: 0.5750 - val_precision: 0.0000e+00 - val_recall: 0.0000e+00 - val_auc: 0.7304 - val_prc: 0.6313\n",
      "Epoch 13/50\n",
      "2/2 [==============================] - 1s 277ms/step - loss: 0.6928 - tp: 37.0000 - fp: 0.0000e+00 - tn: 1976.0000 - fn: 1987.0000 - accuracy: 0.5033 - precision: 1.0000 - recall: 0.0183 - auc: 0.7404 - prc: 0.7574 - val_loss: 0.6650 - val_tp: 0.0000e+00 - val_fp: 0.0000e+00 - val_tn: 115.0000 - val_fn: 85.0000 - val_accuracy: 0.5750 - val_precision: 0.0000e+00 - val_recall: 0.0000e+00 - val_auc: 0.7461 - val_prc: 0.6474\n",
      "Epoch 14/50\n",
      "2/2 [==============================] - 0s 251ms/step - loss: 0.6810 - tp: 115.0000 - fp: 2.0000 - tn: 1974.0000 - fn: 1909.0000 - accuracy: 0.5222 - precision: 0.9829 - recall: 0.0568 - auc: 0.7391 - prc: 0.7623 - val_loss: 0.6593 - val_tp: 0.0000e+00 - val_fp: 0.0000e+00 - val_tn: 115.0000 - val_fn: 85.0000 - val_accuracy: 0.5750 - val_precision: 0.0000e+00 - val_recall: 0.0000e+00 - val_auc: 0.7555 - val_prc: 0.6564\n",
      "Epoch 15/50\n",
      "2/2 [==============================] - 0s 252ms/step - loss: 0.6592 - tp: 325.0000 - fp: 15.0000 - tn: 1961.0000 - fn: 1699.0000 - accuracy: 0.5715 - precision: 0.9559 - recall: 0.1606 - auc: 0.7866 - prc: 0.8038 - val_loss: 0.6539 - val_tp: 6.0000 - val_fp: 1.0000 - val_tn: 114.0000 - val_fn: 79.0000 - val_accuracy: 0.6000 - val_precision: 0.8571 - val_recall: 0.0706 - val_auc: 0.7755 - val_prc: 0.6799\n",
      "Epoch 16/50\n",
      "2/2 [==============================] - 1s 307ms/step - loss: 0.6446 - tp: 593.0000 - fp: 56.0000 - tn: 1920.0000 - fn: 1431.0000 - accuracy: 0.6283 - precision: 0.9137 - recall: 0.2930 - auc: 0.7995 - prc: 0.8150 - val_loss: 0.6491 - val_tp: 13.0000 - val_fp: 4.0000 - val_tn: 111.0000 - val_fn: 72.0000 - val_accuracy: 0.6200 - val_precision: 0.7647 - val_recall: 0.1529 - val_auc: 0.7877 - val_prc: 0.7013\n",
      "Epoch 17/50\n",
      "2/2 [==============================] - 1s 346ms/step - loss: 0.6286 - tp: 856.0000 - fp: 100.0000 - tn: 1876.0000 - fn: 1168.0000 - accuracy: 0.6830 - precision: 0.8954 - recall: 0.4229 - auc: 0.8186 - prc: 0.8293 - val_loss: 0.6450 - val_tp: 37.0000 - val_fp: 16.0000 - val_tn: 99.0000 - val_fn: 48.0000 - val_accuracy: 0.6800 - val_precision: 0.6981 - val_recall: 0.4353 - val_auc: 0.8066 - val_prc: 0.7246\n",
      "Epoch 18/50\n",
      "2/2 [==============================] - 1s 365ms/step - loss: 0.6077 - tp: 1215.0000 - fp: 196.0000 - tn: 1780.0000 - fn: 809.0000 - accuracy: 0.7487 - precision: 0.8611 - recall: 0.6003 - auc: 0.8463 - prc: 0.8612 - val_loss: 0.6412 - val_tp: 59.0000 - val_fp: 26.0000 - val_tn: 89.0000 - val_fn: 26.0000 - val_accuracy: 0.7400 - val_precision: 0.6941 - val_recall: 0.6941 - val_auc: 0.8208 - val_prc: 0.7447\n",
      "Epoch 19/50\n",
      "2/2 [==============================] - 0s 257ms/step - loss: 0.5942 - tp: 1393.0000 - fp: 271.0000 - tn: 1705.0000 - fn: 631.0000 - accuracy: 0.7745 - precision: 0.8371 - recall: 0.6882 - auc: 0.8608 - prc: 0.8734 - val_loss: 0.6371 - val_tp: 73.0000 - val_fp: 39.0000 - val_tn: 76.0000 - val_fn: 12.0000 - val_accuracy: 0.7450 - val_precision: 0.6518 - val_recall: 0.8588 - val_auc: 0.8347 - val_prc: 0.7655\n"
     ]
    },
    {
     "name": "stdout",
     "output_type": "stream",
     "text": [
      "Epoch 20/50\n",
      "2/2 [==============================] - 0s 254ms/step - loss: 0.5699 - tp: 1571.0000 - fp: 280.0000 - tn: 1696.0000 - fn: 453.0000 - accuracy: 0.8167 - precision: 0.8487 - recall: 0.7762 - auc: 0.8954 - prc: 0.9079 - val_loss: 0.6317 - val_tp: 78.0000 - val_fp: 46.0000 - val_tn: 69.0000 - val_fn: 7.0000 - val_accuracy: 0.7350 - val_precision: 0.6290 - val_recall: 0.9176 - val_auc: 0.8486 - val_prc: 0.7881\n",
      "Epoch 21/50\n",
      "2/2 [==============================] - 0s 251ms/step - loss: 0.5562 - tp: 1678.0000 - fp: 329.0000 - tn: 1647.0000 - fn: 346.0000 - accuracy: 0.8313 - precision: 0.8361 - recall: 0.8291 - auc: 0.9064 - prc: 0.9119 - val_loss: 0.6243 - val_tp: 78.0000 - val_fp: 52.0000 - val_tn: 63.0000 - val_fn: 7.0000 - val_accuracy: 0.7050 - val_precision: 0.6000 - val_recall: 0.9176 - val_auc: 0.8645 - val_prc: 0.8135\n",
      "Epoch 22/50\n",
      "2/2 [==============================] - 1s 348ms/step - loss: 0.5305 - tp: 1742.0000 - fp: 293.0000 - tn: 1683.0000 - fn: 282.0000 - accuracy: 0.8562 - precision: 0.8560 - recall: 0.8607 - auc: 0.9358 - prc: 0.9417 - val_loss: 0.6140 - val_tp: 81.0000 - val_fp: 48.0000 - val_tn: 67.0000 - val_fn: 4.0000 - val_accuracy: 0.7400 - val_precision: 0.6279 - val_recall: 0.9529 - val_auc: 0.8765 - val_prc: 0.8321\n",
      "Epoch 23/50\n",
      "2/2 [==============================] - 1s 277ms/step - loss: 0.5094 - tp: 1805.0000 - fp: 275.0000 - tn: 1701.0000 - fn: 219.0000 - accuracy: 0.8765 - precision: 0.8678 - recall: 0.8918 - auc: 0.9497 - prc: 0.9533 - val_loss: 0.6013 - val_tp: 81.0000 - val_fp: 48.0000 - val_tn: 67.0000 - val_fn: 4.0000 - val_accuracy: 0.7400 - val_precision: 0.6279 - val_recall: 0.9529 - val_auc: 0.8865 - val_prc: 0.8460\n",
      "Epoch 24/50\n",
      "2/2 [==============================] - 1s 324ms/step - loss: 0.4806 - tp: 1855.0000 - fp: 188.0000 - tn: 1788.0000 - fn: 169.0000 - accuracy: 0.9107 - precision: 0.9080 - recall: 0.9165 - auc: 0.9684 - prc: 0.9707 - val_loss: 0.5869 - val_tp: 80.0000 - val_fp: 43.0000 - val_tn: 72.0000 - val_fn: 5.0000 - val_accuracy: 0.7600 - val_precision: 0.6504 - val_recall: 0.9412 - val_auc: 0.8960 - val_prc: 0.8661\n",
      "Epoch 25/50\n",
      "2/2 [==============================] - 1s 257ms/step - loss: 0.4586 - tp: 1868.0000 - fp: 150.0000 - tn: 1826.0000 - fn: 156.0000 - accuracy: 0.9235 - precision: 0.9257 - recall: 0.9229 - auc: 0.9783 - prc: 0.9798 - val_loss: 0.5717 - val_tp: 78.0000 - val_fp: 40.0000 - val_tn: 75.0000 - val_fn: 7.0000 - val_accuracy: 0.7650 - val_precision: 0.6610 - val_recall: 0.9176 - val_auc: 0.9011 - val_prc: 0.8782\n",
      "Epoch 26/50\n",
      "2/2 [==============================] - 0s 257ms/step - loss: 0.4322 - tp: 1906.0000 - fp: 126.0000 - tn: 1850.0000 - fn: 118.0000 - accuracy: 0.9390 - precision: 0.9380 - recall: 0.9417 - auc: 0.9862 - prc: 0.9873 - val_loss: 0.5564 - val_tp: 76.0000 - val_fp: 38.0000 - val_tn: 77.0000 - val_fn: 9.0000 - val_accuracy: 0.7650 - val_precision: 0.6667 - val_recall: 0.8941 - val_auc: 0.9054 - val_prc: 0.8854\n",
      "Epoch 27/50\n",
      "2/2 [==============================] - 0s 248ms/step - loss: 0.4019 - tp: 1934.0000 - fp: 84.0000 - tn: 1892.0000 - fn: 90.0000 - accuracy: 0.9565 - precision: 0.9584 - recall: 0.9555 - auc: 0.9914 - prc: 0.9916 - val_loss: 0.5412 - val_tp: 76.0000 - val_fp: 35.0000 - val_tn: 80.0000 - val_fn: 9.0000 - val_accuracy: 0.7800 - val_precision: 0.6847 - val_recall: 0.8941 - val_auc: 0.9075 - val_prc: 0.8899\n",
      "Epoch 28/50\n",
      "2/2 [==============================] - 1s 246ms/step - loss: 0.3714 - tp: 1954.0000 - fp: 59.0000 - tn: 1917.0000 - fn: 70.0000 - accuracy: 0.9678 - precision: 0.9707 - recall: 0.9654 - auc: 0.9951 - prc: 0.9954 - val_loss: 0.5273 - val_tp: 76.0000 - val_fp: 35.0000 - val_tn: 80.0000 - val_fn: 9.0000 - val_accuracy: 0.7800 - val_precision: 0.6847 - val_recall: 0.8941 - val_auc: 0.9107 - val_prc: 0.8938\n",
      "Epoch 29/50\n",
      "2/2 [==============================] - 0s 246ms/step - loss: 0.3465 - tp: 1961.0000 - fp: 59.0000 - tn: 1917.0000 - fn: 63.0000 - accuracy: 0.9695 - precision: 0.9708 - recall: 0.9689 - auc: 0.9960 - prc: 0.9958 - val_loss: 0.5141 - val_tp: 76.0000 - val_fp: 35.0000 - val_tn: 80.0000 - val_fn: 9.0000 - val_accuracy: 0.7800 - val_precision: 0.6847 - val_recall: 0.8941 - val_auc: 0.9114 - val_prc: 0.8961\n",
      "Epoch 30/50\n",
      "2/2 [==============================] - 0s 251ms/step - loss: 0.3182 - tp: 1983.0000 - fp: 54.0000 - tn: 1922.0000 - fn: 41.0000 - accuracy: 0.9762 - precision: 0.9735 - recall: 0.9797 - auc: 0.9976 - prc: 0.9976 - val_loss: 0.5021 - val_tp: 76.0000 - val_fp: 35.0000 - val_tn: 80.0000 - val_fn: 9.0000 - val_accuracy: 0.7800 - val_precision: 0.6847 - val_recall: 0.8941 - val_auc: 0.9119 - val_prc: 0.8982\n",
      "Epoch 31/50\n",
      "2/2 [==============================] - 0s 254ms/step - loss: 0.2904 - tp: 1995.0000 - fp: 44.0000 - tn: 1932.0000 - fn: 29.0000 - accuracy: 0.9818 - precision: 0.9784 - recall: 0.9857 - auc: 0.9984 - prc: 0.9983 - val_loss: 0.4904 - val_tp: 76.0000 - val_fp: 34.0000 - val_tn: 81.0000 - val_fn: 9.0000 - val_accuracy: 0.7850 - val_precision: 0.6909 - val_recall: 0.8941 - val_auc: 0.9134 - val_prc: 0.9000\n",
      "Epoch 32/50\n",
      "2/2 [==============================] - 0s 261ms/step - loss: 0.2637 - tp: 2003.0000 - fp: 28.0000 - tn: 1948.0000 - fn: 21.0000 - accuracy: 0.9877 - precision: 0.9862 - recall: 0.9896 - auc: 0.9990 - prc: 0.9990 - val_loss: 0.4785 - val_tp: 76.0000 - val_fp: 33.0000 - val_tn: 82.0000 - val_fn: 9.0000 - val_accuracy: 0.7900 - val_precision: 0.6972 - val_recall: 0.8941 - val_auc: 0.9141 - val_prc: 0.9019\n",
      "Epoch 33/50\n",
      "2/2 [==============================] - 0s 251ms/step - loss: 0.2376 - tp: 2005.0000 - fp: 34.0000 - tn: 1942.0000 - fn: 19.0000 - accuracy: 0.9868 - precision: 0.9833 - recall: 0.9906 - auc: 0.9993 - prc: 0.9993 - val_loss: 0.4672 - val_tp: 76.0000 - val_fp: 33.0000 - val_tn: 82.0000 - val_fn: 9.0000 - val_accuracy: 0.7900 - val_precision: 0.6972 - val_recall: 0.8941 - val_auc: 0.9144 - val_prc: 0.9024\n",
      "Epoch 34/50\n",
      "2/2 [==============================] - 0s 249ms/step - loss: 0.2119 - tp: 2010.0000 - fp: 23.0000 - tn: 1953.0000 - fn: 14.0000 - accuracy: 0.9908 - precision: 0.9887 - recall: 0.9931 - auc: 0.9996 - prc: 0.9996 - val_loss: 0.4576 - val_tp: 77.0000 - val_fp: 32.0000 - val_tn: 83.0000 - val_fn: 8.0000 - val_accuracy: 0.8000 - val_precision: 0.7064 - val_recall: 0.9059 - val_auc: 0.9149 - val_prc: 0.9037\n",
      "Epoch 35/50\n",
      "2/2 [==============================] - 0s 257ms/step - loss: 0.1898 - tp: 2011.0000 - fp: 25.0000 - tn: 1951.0000 - fn: 13.0000 - accuracy: 0.9905 - precision: 0.9877 - recall: 0.9936 - auc: 0.9997 - prc: 0.9997 - val_loss: 0.4493 - val_tp: 77.0000 - val_fp: 32.0000 - val_tn: 83.0000 - val_fn: 8.0000 - val_accuracy: 0.8000 - val_precision: 0.7064 - val_recall: 0.9059 - val_auc: 0.9155 - val_prc: 0.9049\n",
      "Epoch 36/50\n",
      "2/2 [==============================] - 1s 258ms/step - loss: 0.1649 - tp: 2019.0000 - fp: 13.0000 - tn: 1963.0000 - fn: 5.0000 - accuracy: 0.9955 - precision: 0.9936 - recall: 0.9975 - auc: 0.9999 - prc: 0.9999 - val_loss: 0.4423 - val_tp: 77.0000 - val_fp: 30.0000 - val_tn: 85.0000 - val_fn: 8.0000 - val_accuracy: 0.8100 - val_precision: 0.7196 - val_recall: 0.9059 - val_auc: 0.9159 - val_prc: 0.9050\n",
      "Epoch 37/50\n",
      "2/2 [==============================] - 0s 260ms/step - loss: 0.1455 - tp: 2021.0000 - fp: 10.0000 - tn: 1966.0000 - fn: 3.0000 - accuracy: 0.9967 - precision: 0.9951 - recall: 0.9985 - auc: 0.9999 - prc: 0.9999 - val_loss: 0.4365 - val_tp: 77.0000 - val_fp: 30.0000 - val_tn: 85.0000 - val_fn: 8.0000 - val_accuracy: 0.8100 - val_precision: 0.7196 - val_recall: 0.9059 - val_auc: 0.9153 - val_prc: 0.9052\n",
      "Epoch 38/50\n",
      "2/2 [==============================] - 0s 257ms/step - loss: 0.1267 - tp: 2019.0000 - fp: 7.0000 - tn: 1969.0000 - fn: 5.0000 - accuracy: 0.9970 - precision: 0.9965 - recall: 0.9975 - auc: 1.0000 - prc: 1.0000 - val_loss: 0.4310 - val_tp: 78.0000 - val_fp: 30.0000 - val_tn: 85.0000 - val_fn: 7.0000 - val_accuracy: 0.8150 - val_precision: 0.7222 - val_recall: 0.9176 - val_auc: 0.9142 - val_prc: 0.9044\n",
      "Epoch 39/50\n",
      "2/2 [==============================] - 0s 247ms/step - loss: 0.1135 - tp: 2017.0000 - fp: 5.0000 - tn: 1971.0000 - fn: 7.0000 - accuracy: 0.9970 - precision: 0.9975 - recall: 0.9965 - auc: 1.0000 - prc: 1.0000 - val_loss: 0.4262 - val_tp: 78.0000 - val_fp: 30.0000 - val_tn: 85.0000 - val_fn: 7.0000 - val_accuracy: 0.8150 - val_precision: 0.7222 - val_recall: 0.9176 - val_auc: 0.9147 - val_prc: 0.9050\n"
     ]
    },
    {
     "name": "stdout",
     "output_type": "stream",
     "text": [
      "Epoch 40/50\n",
      "2/2 [==============================] - 0s 250ms/step - loss: 0.0951 - tp: 2021.0000 - fp: 3.0000 - tn: 1973.0000 - fn: 3.0000 - accuracy: 0.9985 - precision: 0.9985 - recall: 0.9985 - auc: 1.0000 - prc: 1.0000 - val_loss: 0.4224 - val_tp: 78.0000 - val_fp: 30.0000 - val_tn: 85.0000 - val_fn: 7.0000 - val_accuracy: 0.8150 - val_precision: 0.7222 - val_recall: 0.9176 - val_auc: 0.9151 - val_prc: 0.9058\n",
      "Epoch 41/50\n",
      "2/2 [==============================] - 1s 265ms/step - loss: 0.0830 - tp: 2021.0000 - fp: 2.0000 - tn: 1974.0000 - fn: 3.0000 - accuracy: 0.9987 - precision: 0.9990 - recall: 0.9985 - auc: 1.0000 - prc: 1.0000 - val_loss: 0.4194 - val_tp: 78.0000 - val_fp: 31.0000 - val_tn: 84.0000 - val_fn: 7.0000 - val_accuracy: 0.8100 - val_precision: 0.7156 - val_recall: 0.9176 - val_auc: 0.9143 - val_prc: 0.9050\n",
      "Epoch 42/50\n",
      "2/2 [==============================] - 1s 323ms/step - loss: 0.0698 - tp: 2024.0000 - fp: 0.0000e+00 - tn: 1976.0000 - fn: 0.0000e+00 - accuracy: 1.0000 - precision: 1.0000 - recall: 1.0000 - auc: 1.0000 - prc: 1.0000 - val_loss: 0.4189 - val_tp: 78.0000 - val_fp: 31.0000 - val_tn: 84.0000 - val_fn: 7.0000 - val_accuracy: 0.8100 - val_precision: 0.7156 - val_recall: 0.9176 - val_auc: 0.9143 - val_prc: 0.9050\n",
      "Epoch 43/50\n",
      "2/2 [==============================] - 1s 261ms/step - loss: 0.0628 - tp: 2024.0000 - fp: 2.0000 - tn: 1974.0000 - fn: 0.0000e+00 - accuracy: 0.9995 - precision: 0.9990 - recall: 1.0000 - auc: 1.0000 - prc: 1.0000 - val_loss: 0.4195 - val_tp: 78.0000 - val_fp: 31.0000 - val_tn: 84.0000 - val_fn: 7.0000 - val_accuracy: 0.8100 - val_precision: 0.7156 - val_recall: 0.9176 - val_auc: 0.9140 - val_prc: 0.9050\n",
      "Epoch 44/50\n",
      "2/2 [==============================] - 0s 247ms/step - loss: 0.0525 - tp: 2023.0000 - fp: 0.0000e+00 - tn: 1976.0000 - fn: 1.0000 - accuracy: 0.9998 - precision: 1.0000 - recall: 0.9995 - auc: 1.0000 - prc: 1.0000 - val_loss: 0.4207 - val_tp: 77.0000 - val_fp: 32.0000 - val_tn: 83.0000 - val_fn: 8.0000 - val_accuracy: 0.8000 - val_precision: 0.7064 - val_recall: 0.9059 - val_auc: 0.9135 - val_prc: 0.9037\n",
      "Epoch 45/50\n",
      "2/2 [==============================] - 0s 195ms/step - loss: 0.0441 - tp: 2023.0000 - fp: 0.0000e+00 - tn: 1976.0000 - fn: 1.0000 - accuracy: 0.9998 - precision: 1.0000 - recall: 0.9995 - auc: 1.0000 - prc: 1.0000 - val_loss: 0.4218 - val_tp: 77.0000 - val_fp: 32.0000 - val_tn: 83.0000 - val_fn: 8.0000 - val_accuracy: 0.8000 - val_precision: 0.7064 - val_recall: 0.9059 - val_auc: 0.9137 - val_prc: 0.9038\n",
      "Epoch 46/50\n",
      "2/2 [==============================] - 0s 220ms/step - loss: 0.0377 - tp: 2024.0000 - fp: 0.0000e+00 - tn: 1976.0000 - fn: 0.0000e+00 - accuracy: 1.0000 - precision: 1.0000 - recall: 1.0000 - auc: 1.0000 - prc: 1.0000 - val_loss: 0.4238 - val_tp: 77.0000 - val_fp: 31.0000 - val_tn: 84.0000 - val_fn: 8.0000 - val_accuracy: 0.8050 - val_precision: 0.7130 - val_recall: 0.9059 - val_auc: 0.9131 - val_prc: 0.9032\n",
      "Epoch 47/50\n",
      "2/2 [==============================] - 0s 199ms/step - loss: 0.0317 - tp: 2023.0000 - fp: 0.0000e+00 - tn: 1976.0000 - fn: 1.0000 - accuracy: 0.9998 - precision: 1.0000 - recall: 0.9995 - auc: 1.0000 - prc: 1.0000 - val_loss: 0.4243 - val_tp: 77.0000 - val_fp: 30.0000 - val_tn: 85.0000 - val_fn: 8.0000 - val_accuracy: 0.8100 - val_precision: 0.7196 - val_recall: 0.9059 - val_auc: 0.9140 - val_prc: 0.9044\n",
      "Epoch 48/50\n",
      "2/2 [==============================] - 0s 225ms/step - loss: 0.0273 - tp: 2024.0000 - fp: 0.0000e+00 - tn: 1976.0000 - fn: 0.0000e+00 - accuracy: 1.0000 - precision: 1.0000 - recall: 1.0000 - auc: 1.0000 - prc: 1.0000 - val_loss: 0.4257 - val_tp: 77.0000 - val_fp: 29.0000 - val_tn: 86.0000 - val_fn: 8.0000 - val_accuracy: 0.8150 - val_precision: 0.7264 - val_recall: 0.9059 - val_auc: 0.9137 - val_prc: 0.9031\n",
      "Epoch 49/50\n",
      "2/2 [==============================] - 0s 199ms/step - loss: 0.0246 - tp: 2024.0000 - fp: 0.0000e+00 - tn: 1976.0000 - fn: 0.0000e+00 - accuracy: 1.0000 - precision: 1.0000 - recall: 1.0000 - auc: 1.0000 - prc: 1.0000 - val_loss: 0.4284 - val_tp: 76.0000 - val_fp: 29.0000 - val_tn: 86.0000 - val_fn: 9.0000 - val_accuracy: 0.8100 - val_precision: 0.7238 - val_recall: 0.8941 - val_auc: 0.9141 - val_prc: 0.9046\n",
      "Epoch 50/50\n",
      "2/2 [==============================] - 0s 212ms/step - loss: 0.0204 - tp: 2024.0000 - fp: 0.0000e+00 - tn: 1976.0000 - fn: 0.0000e+00 - accuracy: 1.0000 - precision: 1.0000 - recall: 1.0000 - auc: 1.0000 - prc: 1.0000 - val_loss: 0.4307 - val_tp: 76.0000 - val_fp: 29.0000 - val_tn: 86.0000 - val_fn: 9.0000 - val_accuracy: 0.8100 - val_precision: 0.7238 - val_recall: 0.8941 - val_auc: 0.9139 - val_prc: 0.9032\n",
      "Restoring model weights from the end of the best epoch.\n",
      "Epoch 00050: early stopping\n"
     ]
    }
   ],
   "source": [
    "model = make_model()\n",
    "baseline_history = model.fit(\n",
    "    train_features,\n",
    "    train_labels,\n",
    "    batch_size=BATCH_SIZE,\n",
    "    epochs=EPOCHS,\n",
    "    validation_data=(val_features, val_labels),\n",
    "    callbacks=[early_stopping])"
   ]
  },
  {
   "cell_type": "code",
   "execution_count": 137,
   "metadata": {},
   "outputs": [],
   "source": [
    "colors = ['red','blue']"
   ]
  },
  {
   "cell_type": "code",
   "execution_count": 138,
   "metadata": {},
   "outputs": [
    {
     "data": {
      "image/png": "[encoded data removed]",
      "text/plain": [
       "<Figure size 432x288 with 4 Axes>"
      ]
     },
     "metadata": {
      "needs_background": "light"
     },
     "output_type": "display_data"
    }
   ],
   "source": [
    "plot_metrics(baseline_history)"
   ]
  },
  {
   "cell_type": "code",
   "execution_count": 139,
   "metadata": {},
   "outputs": [],
   "source": [
    "train_predictions_baseline = model.predict(train_features, batch_size=BATCH_SIZE)\n",
    "test_predictions_baseline = model.predict(test_features, batch_size=BATCH_SIZE)"
   ]
  },
  {
   "cell_type": "code",
   "execution_count": 151,
   "metadata": {},
   "outputs": [
    {
     "name": "stdout",
     "output_type": "stream",
     "text": [
      "loss :  0.4200577437877655\n",
      "tp :  355.0\n",
      "fp :  111.0\n",
      "tn :  301.0\n",
      "fn :  33.0\n",
      "accuracy :  0.8199999928474426\n",
      "precision :  0.7618025541305542\n",
      "recall :  0.9149484634399414\n",
      "auc :  0.9104944467544556\n",
      "prc :  0.9023114442825317\n",
      "\n",
      "Legitimate Transactions Detected (True Negatives):  301\n",
      "Legitimate Transactions Incorrectly Detected (False Positives):  111\n",
      "Fraudulent Transactions Missed (False Negatives):  33\n",
      "Fraudulent Transactions Detected (True Positives):  355\n",
      "Total Fraudulent Transactions:  388\n"
     ]
    },
    {
     "data": {
      "image/png": "[encoded data removed]",
      "text/plain": [
       "<Figure size 360x360 with 2 Axes>"
      ]
     },
     "metadata": {
      "needs_background": "light"
     },
     "output_type": "display_data"
    }
   ],
   "source": [
    "baseline_results = model.evaluate(test_features, test_labels,\n",
    "                                  batch_size=BATCH_SIZE, verbose=0)\n",
    "for name, value in zip(model.metrics_names, baseline_results):\n",
    "    print(name, ': ', value)\n",
    "print()\n",
    "\n",
    "plot_cm(test_labels, test_predictions_baseline)"
   ]
  },
  {
   "cell_type": "code",
   "execution_count": 153,
   "metadata": {},
   "outputs": [
    {
     "data": {
      "text/plain": [
       "<matplotlib.legend.Legend at 0x1b912bf8a00>"
      ]
     },
     "execution_count": 153,
     "metadata": {},
     "output_type": "execute_result"
    },
    {
     "data": {
      "image/png": "[encoded data removed]",
      "text/plain": [
       "<Figure size 432x288 with 1 Axes>"
      ]
     },
     "metadata": {
      "needs_background": "light"
     },
     "output_type": "display_data"
    }
   ],
   "source": [
    "plot_roc(\"Train Baseline\", train_labels, train_predictions_baseline, color=colors[1])\n",
    "plot_roc(\"Test Baseline\", test_labels, test_predictions_baseline, color=colors[0], linestyle='--')\n",
    "plt.legend(loc='lower right')"
   ]
  },
  {
   "cell_type": "code",
   "execution_count": 155,
   "metadata": {},
   "outputs": [],
   "source": [
    "model.save(\"deep_sentiment_model_trained.h5\")"
   ]
  },
  {
   "cell_type": "code",
   "execution_count": null,
   "metadata": {},
   "outputs": [],
   "source": []
  }
 ],
 "metadata": {
  "kernelspec": {
   "display_name": "Python 3",
   "language": "python",
   "name": "python3"
  },
  "language_info": {
   "codemirror_mode": {
    "name": "ipython",
    "version": 3
   },
   "file_extension": ".py",
   "mimetype": "text/x-python",
   "name": "python",
   "nbconvert_exporter": "python",
   "pygments_lexer": "ipython3",
   "version": "3.8.5"
  }
 },
 "nbformat": 4,
 "nbformat_minor": 4
}
