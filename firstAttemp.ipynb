{
 "cells": [
  {
   "cell_type": "code",
   "execution_count": 1,
   "metadata": {},
   "outputs": [],
   "source": [
    "import pandas as pd\n",
    "import gzip"
   ]
  },
  {
   "cell_type": "code",
   "execution_count": 2,
   "metadata": {},
   "outputs": [],
   "source": [
    "# List of datasets to use\n",
    "data = ['Resources/data/reviews_Digital_Music_5.json.gz', 'Resources/data/reviews_Digital_Music_5.json.gz']\n",
    "\n",
    "# functions to read Amazon data into a pandas data frame\n",
    "def parse(path):\n",
    "    g = gzip.open(path, 'rb')\n",
    "    for l in g:\n",
    "        yield eval(l)\n",
    "\n",
    "def getDF(path):\n",
    "    i = 0\n",
    "    df = {}\n",
    "    for d in parse(path):\n",
    "        df[i] = d\n",
    "        i += 1\n",
    "    return pd.DataFrame.from_dict(df, orient='index')\n",
    "\n",
    "# function to concatenate multiple Amazon datasets\n",
    "def concatDF(data):\n",
    "    df = pd.DataFrame()\n",
    "    for dataset in data:\n",
    "        dftemp = getDF(dataset)\n",
    "        df = pd.concat([df, dftemp], axis=0)\n",
    "    # drop unneeded columns\n",
    "    df.drop(columns = ['reviewerID', 'asin', 'reviewerName', 'helpful', \\\n",
    "                       'summary', 'unixReviewTime', 'reviewTime'], inplace= True)\n",
    "    return df"
   ]
  },
  {
   "cell_type": "code",
   "execution_count": 3,
   "metadata": {},
   "outputs": [],
   "source": [
    "df = concatDF(data)"
   ]
  },
  {
   "cell_type": "code",
   "execution_count": 9,
   "metadata": {},
   "outputs": [
    {
     "data": {
      "text/html": [
       "<div>\n",
       "<style scoped>\n",
       "    .dataframe tbody tr th:only-of-type {\n",
       "        vertical-align: middle;\n",
       "    }\n",
       "\n",
       "    .dataframe tbody tr th {\n",
       "        vertical-align: top;\n",
       "    }\n",
       "\n",
       "    .dataframe thead th {\n",
       "        text-align: right;\n",
       "    }\n",
       "</style>\n",
       "<table border=\"1\" class=\"dataframe\">\n",
       "  <thead>\n",
       "    <tr style=\"text-align: right;\">\n",
       "      <th></th>\n",
       "      <th>reviewText</th>\n",
       "      <th>overall</th>\n",
       "    </tr>\n",
       "  </thead>\n",
       "  <tbody>\n",
       "    <tr>\n",
       "      <th>0</th>\n",
       "      <td>It's hard to believe \"Memory of Trees\" came ou...</td>\n",
       "      <td>5.0</td>\n",
       "    </tr>\n",
       "    <tr>\n",
       "      <th>1</th>\n",
       "      <td>A clasically-styled and introverted album, Mem...</td>\n",
       "      <td>5.0</td>\n",
       "    </tr>\n",
       "    <tr>\n",
       "      <th>2</th>\n",
       "      <td>I never thought Enya would reach the sublime h...</td>\n",
       "      <td>5.0</td>\n",
       "    </tr>\n",
       "    <tr>\n",
       "      <th>3</th>\n",
       "      <td>This is the third review of an irish album I w...</td>\n",
       "      <td>5.0</td>\n",
       "    </tr>\n",
       "    <tr>\n",
       "      <th>4</th>\n",
       "      <td>Enya, despite being a successful recording art...</td>\n",
       "      <td>4.0</td>\n",
       "    </tr>\n",
       "  </tbody>\n",
       "</table>\n",
       "</div>"
      ],
      "text/plain": [
       "                                          reviewText  overall\n",
       "0  It's hard to believe \"Memory of Trees\" came ou...      5.0\n",
       "1  A clasically-styled and introverted album, Mem...      5.0\n",
       "2  I never thought Enya would reach the sublime h...      5.0\n",
       "3  This is the third review of an irish album I w...      5.0\n",
       "4  Enya, despite being a successful recording art...      4.0"
      ]
     },
     "execution_count": 9,
     "metadata": {},
     "output_type": "execute_result"
    }
   ],
   "source": [
    "df.head()"
   ]
  },
  {
   "cell_type": "code",
   "execution_count": 14,
   "metadata": {},
   "outputs": [],
   "source": [
    "df['reviewText'] = df['reviewText'].str.lower()"
   ]
  },
  {
   "cell_type": "code",
   "execution_count": 18,
   "metadata": {},
   "outputs": [
    {
     "data": {
      "text/html": [
       "<div>\n",
       "<style scoped>\n",
       "    .dataframe tbody tr th:only-of-type {\n",
       "        vertical-align: middle;\n",
       "    }\n",
       "\n",
       "    .dataframe tbody tr th {\n",
       "        vertical-align: top;\n",
       "    }\n",
       "\n",
       "    .dataframe thead th {\n",
       "        text-align: right;\n",
       "    }\n",
       "</style>\n",
       "<table border=\"1\" class=\"dataframe\">\n",
       "  <thead>\n",
       "    <tr style=\"text-align: right;\">\n",
       "      <th></th>\n",
       "      <th>reviewText</th>\n",
       "      <th>overall</th>\n",
       "    </tr>\n",
       "  </thead>\n",
       "  <tbody>\n",
       "    <tr>\n",
       "      <th>0</th>\n",
       "      <td>it's hard to believe \"memory of trees\" came ou...</td>\n",
       "      <td>5.0</td>\n",
       "    </tr>\n",
       "    <tr>\n",
       "      <th>1</th>\n",
       "      <td>a clasically-styled and introverted album, mem...</td>\n",
       "      <td>5.0</td>\n",
       "    </tr>\n",
       "    <tr>\n",
       "      <th>2</th>\n",
       "      <td>i never thought enya would reach the sublime h...</td>\n",
       "      <td>5.0</td>\n",
       "    </tr>\n",
       "    <tr>\n",
       "      <th>3</th>\n",
       "      <td>this is the third review of an irish album i w...</td>\n",
       "      <td>5.0</td>\n",
       "    </tr>\n",
       "    <tr>\n",
       "      <th>4</th>\n",
       "      <td>enya, despite being a successful recording art...</td>\n",
       "      <td>4.0</td>\n",
       "    </tr>\n",
       "  </tbody>\n",
       "</table>\n",
       "</div>"
      ],
      "text/plain": [
       "                                          reviewText  overall\n",
       "0  it's hard to believe \"memory of trees\" came ou...      5.0\n",
       "1  a clasically-styled and introverted album, mem...      5.0\n",
       "2  i never thought enya would reach the sublime h...      5.0\n",
       "3  this is the third review of an irish album i w...      5.0\n",
       "4  enya, despite being a successful recording art...      4.0"
      ]
     },
     "execution_count": 18,
     "metadata": {},
     "output_type": "execute_result"
    }
   ],
   "source": [
    "df.head()"
   ]
  },
  {
   "cell_type": "code",
   "execution_count": 45,
   "metadata": {},
   "outputs": [],
   "source": [
    "import nltk\n",
    "def provideTokens(row):\n",
    "    tokens = nltk.word_tokenize(row)\n",
    "    #removes all tokens that do not contain letters\n",
    "    token_words = [word for word in tokens if word.isalpha()]\n",
    "    return token_words"
   ]
  },
  {
   "cell_type": "code",
   "execution_count": 46,
   "metadata": {},
   "outputs": [],
   "source": [
    "df['tokened_words'] = df['reviewText'].apply(provideTokens) "
   ]
  },
  {
   "cell_type": "code",
   "execution_count": 47,
   "metadata": {},
   "outputs": [
    {
     "data": {
      "text/html": [
       "<div>\n",
       "<style scoped>\n",
       "    .dataframe tbody tr th:only-of-type {\n",
       "        vertical-align: middle;\n",
       "    }\n",
       "\n",
       "    .dataframe tbody tr th {\n",
       "        vertical-align: top;\n",
       "    }\n",
       "\n",
       "    .dataframe thead th {\n",
       "        text-align: right;\n",
       "    }\n",
       "</style>\n",
       "<table border=\"1\" class=\"dataframe\">\n",
       "  <thead>\n",
       "    <tr style=\"text-align: right;\">\n",
       "      <th></th>\n",
       "      <th>reviewText</th>\n",
       "      <th>overall</th>\n",
       "      <th>tokened_words</th>\n",
       "    </tr>\n",
       "  </thead>\n",
       "  <tbody>\n",
       "    <tr>\n",
       "      <th>0</th>\n",
       "      <td>it's hard to believe \"memory of trees\" came ou...</td>\n",
       "      <td>5.0</td>\n",
       "      <td>[it, hard, to, believe, memory, of, trees, cam...</td>\n",
       "    </tr>\n",
       "    <tr>\n",
       "      <th>1</th>\n",
       "      <td>a clasically-styled and introverted album, mem...</td>\n",
       "      <td>5.0</td>\n",
       "      <td>[a, and, introverted, album, memory, of, trees...</td>\n",
       "    </tr>\n",
       "    <tr>\n",
       "      <th>2</th>\n",
       "      <td>i never thought enya would reach the sublime h...</td>\n",
       "      <td>5.0</td>\n",
       "      <td>[i, never, thought, enya, would, reach, the, s...</td>\n",
       "    </tr>\n",
       "    <tr>\n",
       "      <th>3</th>\n",
       "      <td>this is the third review of an irish album i w...</td>\n",
       "      <td>5.0</td>\n",
       "      <td>[this, is, the, third, review, of, an, irish, ...</td>\n",
       "    </tr>\n",
       "    <tr>\n",
       "      <th>4</th>\n",
       "      <td>enya, despite being a successful recording art...</td>\n",
       "      <td>4.0</td>\n",
       "      <td>[enya, despite, being, a, successful, recordin...</td>\n",
       "    </tr>\n",
       "  </tbody>\n",
       "</table>\n",
       "</div>"
      ],
      "text/plain": [
       "                                          reviewText  overall  \\\n",
       "0  it's hard to believe \"memory of trees\" came ou...      5.0   \n",
       "1  a clasically-styled and introverted album, mem...      5.0   \n",
       "2  i never thought enya would reach the sublime h...      5.0   \n",
       "3  this is the third review of an irish album i w...      5.0   \n",
       "4  enya, despite being a successful recording art...      4.0   \n",
       "\n",
       "                                       tokened_words  \n",
       "0  [it, hard, to, believe, memory, of, trees, cam...  \n",
       "1  [a, and, introverted, album, memory, of, trees...  \n",
       "2  [i, never, thought, enya, would, reach, the, s...  \n",
       "3  [this, is, the, third, review, of, an, irish, ...  \n",
       "4  [enya, despite, being, a, successful, recordin...  "
      ]
     },
     "execution_count": 47,
     "metadata": {},
     "output_type": "execute_result"
    }
   ],
   "source": [
    "df.head()"
   ]
  },
  {
   "cell_type": "code",
   "execution_count": 50,
   "metadata": {},
   "outputs": [],
   "source": [
    "from nltk.corpus import stopwords\n",
    "stops = set(stopwords.words(\"english\")) \n",
    "\n",
    "def remove_stops(row):\n",
    "    meaningful_words = [word for word in row if not word in stops]\n",
    "    return (meaningful_words)"
   ]
  },
  {
   "cell_type": "code",
   "execution_count": 51,
   "metadata": {},
   "outputs": [],
   "source": [
    "df['train_me'] = df['tokened_words'].apply(remove_stops)"
   ]
  },
  {
   "cell_type": "code",
   "execution_count": 53,
   "metadata": {},
   "outputs": [
    {
     "data": {
      "text/html": [
       "<div>\n",
       "<style scoped>\n",
       "    .dataframe tbody tr th:only-of-type {\n",
       "        vertical-align: middle;\n",
       "    }\n",
       "\n",
       "    .dataframe tbody tr th {\n",
       "        vertical-align: top;\n",
       "    }\n",
       "\n",
       "    .dataframe thead th {\n",
       "        text-align: right;\n",
       "    }\n",
       "</style>\n",
       "<table border=\"1\" class=\"dataframe\">\n",
       "  <thead>\n",
       "    <tr style=\"text-align: right;\">\n",
       "      <th></th>\n",
       "      <th>reviewText</th>\n",
       "      <th>overall</th>\n",
       "      <th>tokened_words</th>\n",
       "      <th>train_me</th>\n",
       "    </tr>\n",
       "  </thead>\n",
       "  <tbody>\n",
       "    <tr>\n",
       "      <th>0</th>\n",
       "      <td>it's hard to believe \"memory of trees\" came ou...</td>\n",
       "      <td>5.0</td>\n",
       "      <td>[it, hard, to, believe, memory, of, trees, cam...</td>\n",
       "      <td>[hard, believe, memory, trees, came, years, ag...</td>\n",
       "    </tr>\n",
       "    <tr>\n",
       "      <th>1</th>\n",
       "      <td>a clasically-styled and introverted album, mem...</td>\n",
       "      <td>5.0</td>\n",
       "      <td>[a, and, introverted, album, memory, of, trees...</td>\n",
       "      <td>[introverted, album, memory, trees, masterpiec...</td>\n",
       "    </tr>\n",
       "    <tr>\n",
       "      <th>2</th>\n",
       "      <td>i never thought enya would reach the sublime h...</td>\n",
       "      <td>5.0</td>\n",
       "      <td>[i, never, thought, enya, would, reach, the, s...</td>\n",
       "      <td>[never, thought, enya, would, reach, sublime, ...</td>\n",
       "    </tr>\n",
       "    <tr>\n",
       "      <th>3</th>\n",
       "      <td>this is the third review of an irish album i w...</td>\n",
       "      <td>5.0</td>\n",
       "      <td>[this, is, the, third, review, of, an, irish, ...</td>\n",
       "      <td>[third, review, irish, album, write, today, ot...</td>\n",
       "    </tr>\n",
       "    <tr>\n",
       "      <th>4</th>\n",
       "      <td>enya, despite being a successful recording art...</td>\n",
       "      <td>4.0</td>\n",
       "      <td>[enya, despite, being, a, successful, recordin...</td>\n",
       "      <td>[enya, despite, successful, recording, artist,...</td>\n",
       "    </tr>\n",
       "  </tbody>\n",
       "</table>\n",
       "</div>"
      ],
      "text/plain": [
       "                                          reviewText  overall  \\\n",
       "0  it's hard to believe \"memory of trees\" came ou...      5.0   \n",
       "1  a clasically-styled and introverted album, mem...      5.0   \n",
       "2  i never thought enya would reach the sublime h...      5.0   \n",
       "3  this is the third review of an irish album i w...      5.0   \n",
       "4  enya, despite being a successful recording art...      4.0   \n",
       "\n",
       "                                       tokened_words  \\\n",
       "0  [it, hard, to, believe, memory, of, trees, cam...   \n",
       "1  [a, and, introverted, album, memory, of, trees...   \n",
       "2  [i, never, thought, enya, would, reach, the, s...   \n",
       "3  [this, is, the, third, review, of, an, irish, ...   \n",
       "4  [enya, despite, being, a, successful, recordin...   \n",
       "\n",
       "                                            train_me  \n",
       "0  [hard, believe, memory, trees, came, years, ag...  \n",
       "1  [introverted, album, memory, trees, masterpiec...  \n",
       "2  [never, thought, enya, would, reach, sublime, ...  \n",
       "3  [third, review, irish, album, write, today, ot...  \n",
       "4  [enya, despite, successful, recording, artist,...  "
      ]
     },
     "execution_count": 53,
     "metadata": {},
     "output_type": "execute_result"
    }
   ],
   "source": [
    "df.head()"
   ]
  },
  {
   "cell_type": "code",
   "execution_count": 56,
   "metadata": {},
   "outputs": [],
   "source": [
    "x = df['train_me']\n",
    "y = df['overall'].astype(int)"
   ]
  },
  {
   "cell_type": "code",
   "execution_count": 95,
   "metadata": {},
   "outputs": [],
   "source": [
    "from tensorflow.keras.preprocessing.text import Tokenizer\n",
    "from tensorflow.keras.preprocessing.sequence import pad_sequences\n",
    "\n",
    "max_words = 6000\n",
    "max_len = 120\n",
    "tokenizer = Tokenizer(num_words=max_words)\n",
    "def padSequences(x):\n",
    "    tokenizer.fit_on_texts(x)\n",
    "    sequences = tokenizer.texts_to_sequences(x)\n",
    "    reviews = pad_sequences(sequences, maxlen=max_len)\n",
    "    return reviews"
   ]
  },
  {
   "cell_type": "code",
   "execution_count": 96,
   "metadata": {},
   "outputs": [],
   "source": [
    "from sklearn.model_selection import train_test_split\n",
    "X_train, X_test, y_train, y_test = train_test_split(x, y, test_size=0.2)"
   ]
  },
  {
   "cell_type": "code",
   "execution_count": 97,
   "metadata": {},
   "outputs": [],
   "source": [
    "from sklearn.preprocessing import LabelEncoder\n",
    "from tensorflow.keras.utils import to_categorical\n",
    "label_encoder = LabelEncoder()\n",
    "label_encoder.fit(y_train)\n",
    "\n",
    "encoded_y_train = label_encoder.transform(y_train)\n",
    "encoded_y_test = label_encoder.transform(y_test)\n",
    "\n",
    "y_train_categorical = to_categorical(encoded_y_train)\n",
    "y_test_categorical = to_categorical(encoded_y_test)"
   ]
  },
  {
   "cell_type": "code",
   "execution_count": 98,
   "metadata": {},
   "outputs": [],
   "source": [
    "X_train_padded = padSequences(X_train)\n",
    "X_test_padded = padSequences(X_test)"
   ]
  },
  {
   "cell_type": "code",
   "execution_count": 99,
   "metadata": {},
   "outputs": [
    {
     "name": "stdout",
     "output_type": "stream",
     "text": [
      "Model: \"sequential_7\"\n",
      "_________________________________________________________________\n",
      "Layer (type)                 Output Shape              Param #   \n",
      "=================================================================\n",
      "embedding_5 (Embedding)      (None, None, 20)          120000    \n",
      "_________________________________________________________________\n",
      "lstm_5 (LSTM)                (None, 15)                2160      \n",
      "_________________________________________________________________\n",
      "dense_8 (Dense)              (None, 5)                 80        \n",
      "=================================================================\n",
      "Total params: 122,240\n",
      "Trainable params: 122,240\n",
      "Non-trainable params: 0\n",
      "_________________________________________________________________\n"
     ]
    }
   ],
   "source": [
    "from tensorflow.keras.models import Sequential\n",
    "from tensorflow.keras.layers import Dense, Embedding, LSTM\n",
    "\n",
    "model = Sequential()\n",
    "\n",
    "model.add(Embedding(max_words, 20))\n",
    "model.add(LSTM(15, dropout=.5))\n",
    "model.add(Dense(units=5, activation='softmax'))\n",
    "model.compile(loss='categorical_crossentropy', optimizer='rmsprop', metrics=['accuracy'])\n",
    "model.summary()"
   ]
  },
  {
   "cell_type": "code",
   "execution_count": 100,
   "metadata": {},
   "outputs": [
    {
     "name": "stdout",
     "output_type": "stream",
     "text": [
      "Epoch 1/50\n",
      "32/32 - 3s - loss: 1.4537 - accuracy: 0.5460\n",
      "Epoch 2/50\n",
      "32/32 - 1s - loss: 1.2034 - accuracy: 0.5700\n",
      "Epoch 3/50\n",
      "32/32 - 1s - loss: 1.1542 - accuracy: 0.5700\n",
      "Epoch 4/50\n",
      "32/32 - 1s - loss: 1.0824 - accuracy: 0.5720\n",
      "Epoch 5/50\n",
      "32/32 - 1s - loss: 1.0023 - accuracy: 0.5820\n",
      "Epoch 6/50\n",
      "32/32 - 1s - loss: 0.9196 - accuracy: 0.6070\n",
      "Epoch 7/50\n",
      "32/32 - 1s - loss: 0.8442 - accuracy: 0.6420\n",
      "Epoch 8/50\n",
      "32/32 - 1s - loss: 0.7923 - accuracy: 0.6770\n",
      "Epoch 9/50\n",
      "32/32 - 1s - loss: 0.7411 - accuracy: 0.6970\n",
      "Epoch 10/50\n",
      "32/32 - 1s - loss: 0.7028 - accuracy: 0.7290\n",
      "Epoch 11/50\n",
      "32/32 - 1s - loss: 0.6470 - accuracy: 0.7580\n",
      "Epoch 12/50\n",
      "32/32 - 1s - loss: 0.6120 - accuracy: 0.7860\n",
      "Epoch 13/50\n",
      "32/32 - 1s - loss: 0.5614 - accuracy: 0.8030\n",
      "Epoch 14/50\n",
      "32/32 - 1s - loss: 0.5343 - accuracy: 0.8210\n",
      "Epoch 15/50\n",
      "32/32 - 1s - loss: 0.5063 - accuracy: 0.8340\n",
      "Epoch 16/50\n",
      "32/32 - 1s - loss: 0.4649 - accuracy: 0.8430\n",
      "Epoch 17/50\n",
      "32/32 - 1s - loss: 0.4488 - accuracy: 0.8500\n",
      "Epoch 18/50\n",
      "32/32 - 1s - loss: 0.4312 - accuracy: 0.8460\n",
      "Epoch 19/50\n",
      "32/32 - 1s - loss: 0.4010 - accuracy: 0.8600\n",
      "Epoch 20/50\n",
      "32/32 - 1s - loss: 0.3887 - accuracy: 0.8530\n",
      "Epoch 21/50\n",
      "32/32 - 1s - loss: 0.3823 - accuracy: 0.8540\n",
      "Epoch 22/50\n",
      "32/32 - 1s - loss: 0.3443 - accuracy: 0.8740\n",
      "Epoch 23/50\n",
      "32/32 - 1s - loss: 0.3457 - accuracy: 0.8710\n",
      "Epoch 24/50\n",
      "32/32 - 1s - loss: 0.3202 - accuracy: 0.8750\n",
      "Epoch 25/50\n",
      "32/32 - 1s - loss: 0.3353 - accuracy: 0.8640\n",
      "Epoch 26/50\n",
      "32/32 - 1s - loss: 0.3118 - accuracy: 0.8760\n",
      "Epoch 27/50\n",
      "32/32 - 1s - loss: 0.3047 - accuracy: 0.8670\n",
      "Epoch 28/50\n",
      "32/32 - 1s - loss: 0.2855 - accuracy: 0.8810\n",
      "Epoch 29/50\n",
      "32/32 - 1s - loss: 0.2814 - accuracy: 0.8750\n",
      "Epoch 30/50\n",
      "32/32 - 1s - loss: 0.2746 - accuracy: 0.8820\n",
      "Epoch 31/50\n",
      "32/32 - 1s - loss: 0.2700 - accuracy: 0.8790\n",
      "Epoch 32/50\n",
      "32/32 - 1s - loss: 0.2574 - accuracy: 0.8880\n",
      "Epoch 33/50\n",
      "32/32 - 1s - loss: 0.2501 - accuracy: 0.8930\n",
      "Epoch 34/50\n",
      "32/32 - 1s - loss: 0.2416 - accuracy: 0.9020\n",
      "Epoch 35/50\n",
      "32/32 - 1s - loss: 0.2446 - accuracy: 0.9010\n",
      "Epoch 36/50\n",
      "32/32 - 1s - loss: 0.2244 - accuracy: 0.9130\n",
      "Epoch 37/50\n",
      "32/32 - 1s - loss: 0.2386 - accuracy: 0.9150\n",
      "Epoch 38/50\n",
      "32/32 - 1s - loss: 0.2105 - accuracy: 0.9210\n",
      "Epoch 39/50\n",
      "32/32 - 1s - loss: 0.2092 - accuracy: 0.9290\n",
      "Epoch 40/50\n",
      "32/32 - 1s - loss: 0.2006 - accuracy: 0.9310\n",
      "Epoch 41/50\n",
      "32/32 - 1s - loss: 0.1904 - accuracy: 0.9380\n",
      "Epoch 42/50\n",
      "32/32 - 1s - loss: 0.1827 - accuracy: 0.9330\n",
      "Epoch 43/50\n",
      "32/32 - 1s - loss: 0.1845 - accuracy: 0.9350\n",
      "Epoch 44/50\n",
      "32/32 - 1s - loss: 0.1699 - accuracy: 0.9380\n",
      "Epoch 45/50\n",
      "32/32 - 1s - loss: 0.1589 - accuracy: 0.9510\n",
      "Epoch 46/50\n",
      "32/32 - 1s - loss: 0.1450 - accuracy: 0.9560\n",
      "Epoch 47/50\n",
      "32/32 - 1s - loss: 0.1512 - accuracy: 0.9560\n",
      "Epoch 48/50\n",
      "32/32 - 1s - loss: 0.1330 - accuracy: 0.9600\n",
      "Epoch 49/50\n",
      "32/32 - 1s - loss: 0.1279 - accuracy: 0.9680\n",
      "Epoch 50/50\n",
      "32/32 - 1s - loss: 0.1297 - accuracy: 0.9650\n"
     ]
    },
    {
     "data": {
      "text/plain": [
       "<tensorflow.python.keras.callbacks.History at 0x1e604e53100>"
      ]
     },
     "execution_count": 100,
     "metadata": {},
     "output_type": "execute_result"
    }
   ],
   "source": [
    "model.fit(\n",
    "    X_train_padded[:1000],\n",
    "    y_train_categorical[:1000],\n",
    "    epochs=50,\n",
    "    verbose=2\n",
    ")"
   ]
  },
  {
   "cell_type": "code",
   "execution_count": 207,
   "metadata": {},
   "outputs": [
    {
     "name": "stdout",
     "output_type": "stream",
     "text": [
      "Epoch 1/50\n",
      "32/32 - 1s - loss: 1.9720 - accuracy: 0.5030\n",
      "Epoch 2/50\n",
      "32/32 - 1s - loss: 1.4437 - accuracy: 0.5140\n",
      "Epoch 3/50\n",
      "32/32 - 1s - loss: 1.2287 - accuracy: 0.5410\n",
      "Epoch 4/50\n",
      "32/32 - 1s - loss: 1.0929 - accuracy: 0.5730\n",
      "Epoch 5/50\n",
      "32/32 - 1s - loss: 1.0556 - accuracy: 0.5880\n",
      "Epoch 6/50\n",
      "32/32 - 1s - loss: 0.9790 - accuracy: 0.6070\n",
      "Epoch 7/50\n",
      "32/32 - 1s - loss: 0.9108 - accuracy: 0.6350\n",
      "Epoch 8/50\n",
      "32/32 - 1s - loss: 0.8681 - accuracy: 0.6610\n",
      "Epoch 9/50\n",
      "32/32 - 1s - loss: 0.7997 - accuracy: 0.6960\n",
      "Epoch 10/50\n",
      "32/32 - 1s - loss: 0.7555 - accuracy: 0.7050\n",
      "Epoch 11/50\n",
      "32/32 - 1s - loss: 0.7187 - accuracy: 0.7340\n",
      "Epoch 12/50\n",
      "32/32 - 1s - loss: 0.6610 - accuracy: 0.7460\n",
      "Epoch 13/50\n",
      "32/32 - 1s - loss: 0.6349 - accuracy: 0.7720\n",
      "Epoch 14/50\n",
      "32/32 - 1s - loss: 0.5877 - accuracy: 0.7900\n",
      "Epoch 15/50\n",
      "32/32 - 1s - loss: 0.5351 - accuracy: 0.8110\n",
      "Epoch 16/50\n",
      "32/32 - 1s - loss: 0.4854 - accuracy: 0.8240\n",
      "Epoch 17/50\n",
      "32/32 - 1s - loss: 0.4655 - accuracy: 0.8370\n",
      "Epoch 18/50\n",
      "32/32 - 1s - loss: 0.4323 - accuracy: 0.8410\n",
      "Epoch 19/50\n",
      "32/32 - 1s - loss: 0.4004 - accuracy: 0.8600\n",
      "Epoch 20/50\n",
      "32/32 - 1s - loss: 0.3596 - accuracy: 0.8830\n",
      "Epoch 21/50\n",
      "32/32 - 1s - loss: 0.3238 - accuracy: 0.8820\n",
      "Epoch 22/50\n",
      "32/32 - 1s - loss: 0.3068 - accuracy: 0.8940\n",
      "Epoch 23/50\n",
      "32/32 - 1s - loss: 0.2916 - accuracy: 0.9020\n",
      "Epoch 24/50\n",
      "32/32 - 1s - loss: 0.2721 - accuracy: 0.9140\n",
      "Epoch 25/50\n",
      "32/32 - 1s - loss: 0.2586 - accuracy: 0.9140\n",
      "Epoch 26/50\n",
      "32/32 - 1s - loss: 0.2387 - accuracy: 0.9220\n",
      "Epoch 27/50\n",
      "32/32 - 1s - loss: 0.2351 - accuracy: 0.9280\n",
      "Epoch 28/50\n",
      "32/32 - 1s - loss: 0.2029 - accuracy: 0.9370\n",
      "Epoch 29/50\n",
      "32/32 - 1s - loss: 0.2062 - accuracy: 0.9350\n",
      "Epoch 30/50\n",
      "32/32 - 1s - loss: 0.1794 - accuracy: 0.9470\n",
      "Epoch 31/50\n",
      "32/32 - 1s - loss: 0.1920 - accuracy: 0.9350\n",
      "Epoch 32/50\n",
      "32/32 - 1s - loss: 0.1485 - accuracy: 0.9550\n",
      "Epoch 33/50\n",
      "32/32 - 1s - loss: 0.1589 - accuracy: 0.9560\n",
      "Epoch 34/50\n",
      "32/32 - 1s - loss: 0.1569 - accuracy: 0.9480\n",
      "Epoch 35/50\n",
      "32/32 - 1s - loss: 0.1375 - accuracy: 0.9630\n",
      "Epoch 36/50\n",
      "32/32 - 1s - loss: 0.1269 - accuracy: 0.9590\n",
      "Epoch 37/50\n",
      "32/32 - 1s - loss: 0.1313 - accuracy: 0.9570\n",
      "Epoch 38/50\n",
      "32/32 - 1s - loss: 0.1209 - accuracy: 0.9650\n",
      "Epoch 39/50\n",
      "32/32 - 1s - loss: 0.1126 - accuracy: 0.9670\n",
      "Epoch 40/50\n",
      "32/32 - 1s - loss: 0.0974 - accuracy: 0.9740\n",
      "Epoch 41/50\n",
      "32/32 - 1s - loss: 0.0988 - accuracy: 0.9670\n",
      "Epoch 42/50\n",
      "32/32 - 1s - loss: 0.0811 - accuracy: 0.9760\n",
      "Epoch 43/50\n",
      "32/32 - 1s - loss: 0.0911 - accuracy: 0.9750\n",
      "Epoch 44/50\n",
      "32/32 - 1s - loss: 0.0776 - accuracy: 0.9750\n",
      "Epoch 45/50\n",
      "32/32 - 1s - loss: 0.0750 - accuracy: 0.9760\n",
      "Epoch 46/50\n",
      "32/32 - 1s - loss: 0.0810 - accuracy: 0.9760\n",
      "Epoch 47/50\n",
      "32/32 - 1s - loss: 0.0810 - accuracy: 0.9770\n",
      "Epoch 48/50\n",
      "32/32 - 1s - loss: 0.0613 - accuracy: 0.9810\n",
      "Epoch 49/50\n",
      "32/32 - 1s - loss: 0.0610 - accuracy: 0.9810\n",
      "Epoch 50/50\n",
      "32/32 - 1s - loss: 0.0634 - accuracy: 0.9820\n"
     ]
    },
    {
     "data": {
      "text/plain": [
       "<tensorflow.python.keras.callbacks.History at 0x1e61df84af0>"
      ]
     },
     "execution_count": 207,
     "metadata": {},
     "output_type": "execute_result"
    }
   ],
   "source": [
    "model.fit(\n",
    "    X_train_padded[4000:5000],\n",
    "    y_train_categorical[4000:5000],\n",
    "    epochs=50,\n",
    "    verbose=2\n",
    ")"
   ]
  },
  {
   "cell_type": "code",
   "execution_count": 200,
   "metadata": {},
   "outputs": [
    {
     "name": "stdout",
     "output_type": "stream",
     "text": [
      "570\n"
     ]
    }
   ],
   "source": [
    "counter = 0 \n",
    "for row in y_train_categorical[:1000]:\n",
    "    test = [0., 0., 0., 0., 1.]\n",
    "    identical = True\n",
    "    index = 0\n",
    "    for element in row:\n",
    "        if element != test[index]:\n",
    "            identical = False\n",
    "        index += 1\n",
    "    index = 0\n",
    "    if identical:\n",
    "        counter+= 1\n",
    "    identical = True\n",
    "print(counter)"
   ]
  },
  {
   "cell_type": "code",
   "execution_count": 223,
   "metadata": {},
   "outputs": [],
   "source": [
    "sentence = [\"this is a terrible bad toy\"]\n",
    "sequence = tokenizer.texts_to_sequences(sentence)\n",
    "test = pad_sequences(sequence, max_len)\n"
   ]
  },
  {
   "cell_type": "code",
   "execution_count": 224,
   "metadata": {},
   "outputs": [
    {
     "name": "stdout",
     "output_type": "stream",
     "text": [
      "[0.012861790135502815, 0.2838737666606903, 0.04923542961478233, 0.1138872504234314, 0.540141761302948]\n",
      "5\n"
     ]
    }
   ],
   "source": [
    "prediction  = model.predict(test).tolist()[0]\n",
    "print(prediction)\n",
    "score = prediction.index((max(prediction)))\n",
    "print(score + 1)"
   ]
  },
  {
   "cell_type": "code",
   "execution_count": null,
   "metadata": {},
   "outputs": [],
   "source": []
  }
 ],
 "metadata": {
  "kernelspec": {
   "display_name": "Python 3",
   "language": "python",
   "name": "python3"
  },
  "language_info": {
   "codemirror_mode": {
    "name": "ipython",
    "version": 3
   },
   "file_extension": ".py",
   "mimetype": "text/x-python",
   "name": "python",
   "nbconvert_exporter": "python",
   "pygments_lexer": "ipython3",
   "version": "3.8.5"
  }
 },
 "nbformat": 4,
 "nbformat_minor": 4
}
