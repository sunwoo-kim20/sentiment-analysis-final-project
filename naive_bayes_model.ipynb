{
 "cells": [
  {
   "cell_type": "code",
   "execution_count": 1,
   "metadata": {},
   "outputs": [],
   "source": [
    "import pandas as pd\n",
    "import gzip"
   ]
  },
  {
   "cell_type": "code",
   "execution_count": 2,
   "metadata": {},
   "outputs": [],
   "source": [
    "# List of datasets to use\n",
    "data = ['reviews_Amazon_Instant_Video_5.json.gz', 'reviews_Digital_Music_5.json.gz']\n",
    "\n",
    "# functions to read Amazon data into a pandas data frame\n",
    "def parse(path):\n",
    "    g = gzip.open(path, 'rb')\n",
    "    for l in g:\n",
    "        yield eval(l)\n",
    "\n",
    "def getDF(path):\n",
    "    i = 0\n",
    "    df = {}\n",
    "    for d in parse(path):\n",
    "        df[i] = d\n",
    "        i += 1\n",
    "    return pd.DataFrame.from_dict(df, orient='index')\n",
    "\n",
    "# function to concatenate multiple Amazon datasets\n",
    "def concatDF(data):\n",
    "    df = pd.DataFrame()\n",
    "    for dataset in data:\n",
    "        dftemp = getDF(dataset)\n",
    "        df = pd.concat([df, dftemp], axis=0)\n",
    "    # drop unneeded columns\n",
    "    df.drop(columns = ['reviewerID', 'asin', 'reviewerName', 'helpful', \\\n",
    "                       'summary', 'unixReviewTime', 'reviewTime'], inplace= True)\n",
    "    return df"
   ]
  },
  {
   "cell_type": "code",
   "execution_count": 3,
   "metadata": {},
   "outputs": [],
   "source": [
    "# Create list of file paths to pass to functions for pandas conversion\n",
    "zipped_data = ['Resources/data/reviews_Amazon_Instant_Video_5.json.gz', 'Resources/data/reviews_Digital_Music_5.json.gz']"
   ]
  },
  {
   "cell_type": "code",
   "execution_count": 4,
   "metadata": {},
   "outputs": [],
   "source": [
    "clean_reviews_df = concatDF(zipped_data)"
   ]
  },
  {
   "cell_type": "code",
   "execution_count": null,
   "metadata": {},
   "outputs": [],
   "source": []
  }
 ],
 "metadata": {
  "kernelspec": {
   "display_name": "Python 3",
   "language": "python",
   "name": "python3"
  },
  "language_info": {
   "codemirror_mode": {
    "name": "ipython",
    "version": 3
   },
   "file_extension": ".py",
   "mimetype": "text/x-python",
   "name": "python",
   "nbconvert_exporter": "python",
   "pygments_lexer": "ipython3",
   "version": "3.8.5"
  }
 },
 "nbformat": 4,
 "nbformat_minor": 4
}
