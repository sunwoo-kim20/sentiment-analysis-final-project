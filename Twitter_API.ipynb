{
 "cells": [
  {
   "cell_type": "code",
   "execution_count": 1,
   "metadata": {},
   "outputs": [],
   "source": [
    "import requests\n",
    "import json\n",
    "\n",
    "from config import token"
   ]
  },
  {
   "cell_type": "code",
   "execution_count": 14,
   "metadata": {},
   "outputs": [],
   "source": [
    "keyword = 'America OR US OR USA OR (United States) OR (United States of America)'\n",
    "max_results = 10\n",
    "\n",
    "search_url = \"https://api.twitter.com/2/tweets/search/recent\"\n",
    "\n",
    "# US used as an example query as it is a required field\n",
    "query_params = {'query': keyword,\n",
    "                'max_results': max_results,\n",
    "               'next_token': {}}"
   ]
  },
  {
   "cell_type": "code",
   "execution_count": 3,
   "metadata": {},
   "outputs": [],
   "source": [
    "def bearer_oauth(r):\n",
    "    r.headers[\"Authorization\"] = f\"Bearer {token}\"\n",
    "    return r"
   ]
  },
  {
   "cell_type": "code",
   "execution_count": 4,
   "metadata": {},
   "outputs": [],
   "source": [
    "def connect_to_endpoint(url, params):\n",
    "    response = requests.get(url, auth=bearer_oauth, params=params)\n",
    "    print(response.status_code)\n",
    "    if response.status_code != 200:\n",
    "        raise Exception(response.status_code, response.text)\n",
    "    return response.json()"
   ]
  },
  {
   "cell_type": "code",
   "execution_count": 24,
   "metadata": {},
   "outputs": [],
   "source": [
    "def api_call():\n",
    "    tweets = []\n",
    "    json_response = connect_to_endpoint(search_url, query_params)\n",
    "    for response in json_response['data']:\n",
    "        tweets.append( {'tweet': response['text'], 'sentiment score': ''}) \n",
    "    return tweets"
   ]
  },
  {
   "cell_type": "code",
   "execution_count": 25,
   "metadata": {},
   "outputs": [
    {
     "name": "stdout",
     "output_type": "stream",
     "text": [
      "200\n"
     ]
    },
    {
     "data": {
      "text/plain": [
       "[{'tweet': \"RT @narendramodi: It is a matter of pride for us that four Indian sites get Ramsar recognition. This once again manifests India's centuries…\",\n",
       "  'sentiment score': ''},\n",
       " {'tweet': 'RT @chelah_reez: Looking forward to the IEEE Young Professionals session at PowerAfrica this year! So excited for the incredible session li…',\n",
       "  'sentiment score': ''},\n",
       " {'tweet': 'RT @0xPolyPuma: Check us out on #Quickswap 👇\\nhttps://t.co/dHuPLmm5if\\n\\n#PolygonMatic #polygonNetwork #polygon #matic $matic #defi #yieldfarm…',\n",
       "  'sentiment score': ''},\n",
       " {'tweet': \"RT @J_Elite10: 1) $30,000 is way too low\\n\\n2) ever since the civil Rights movement they've been telling us to stop complaining and how much…\",\n",
       "  'sentiment score': ''},\n",
       " {'tweet': 'RT @BafanaSurprise: I have an advice to us Men. As including myself!! Can we please stop acting rich 😭😭😭🙏🙏?',\n",
       "  'sentiment score': ''},\n",
       " {'tweet': 'It is Monday August 23, 2021, 02:59:01. The US Federal minimum wage remains at $7.25/hr.',\n",
       "  'sentiment score': ''},\n",
       " {'tweet': 'The tiniest things each of us do has a ripple effect. Things we don’t even notice, ripples we’ll never see, but are still there. - Mutsu',\n",
       "  'sentiment score': ''},\n",
       " {'tweet': 'RT @_SJPeace_: Dear America… https://t.co/Tt4bD2dSWW',\n",
       "  'sentiment score': ''},\n",
       " {'tweet': '@r0okClothing Hey everybody come check out us on Discord and become a Warrior you’re thank me ❤️',\n",
       "  'sentiment score': ''},\n",
       " {'tweet': '@RedState “Dismantling America” makes her ‘better’ … so says the anti-American domestic enemy. ☠️',\n",
       "  'sentiment score': ''}]"
      ]
     },
     "execution_count": 25,
     "metadata": {},
     "output_type": "execute_result"
    }
   ],
   "source": [
    "tweet_dict = api_call()\n",
    "tweet_dict"
   ]
  },
  {
   "cell_type": "code",
   "execution_count": null,
   "metadata": {},
   "outputs": [],
   "source": []
  }
 ],
 "metadata": {
  "kernelspec": {
   "display_name": "Python 3",
   "language": "python",
   "name": "python3"
  },
  "language_info": {
   "codemirror_mode": {
    "name": "ipython",
    "version": 3
   },
   "file_extension": ".py",
   "mimetype": "text/x-python",
   "name": "python",
   "nbconvert_exporter": "python",
   "pygments_lexer": "ipython3",
   "version": "3.8.5"
  }
 },
 "nbformat": 4,
 "nbformat_minor": 4
}
